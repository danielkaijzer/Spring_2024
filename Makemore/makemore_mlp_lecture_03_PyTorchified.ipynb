{
 "cells": [
  {
   "cell_type": "code",
   "execution_count": 1,
   "id": "1be613d1-fcc2-4256-a87c-16230de4ac8c",
   "metadata": {
    "tags": []
   },
   "outputs": [],
   "source": [
    "import torch\n",
    "import torch.nn.functional as F\n",
    "import matplotlib.pyplot as plt\n",
    "%matplotlib inline"
   ]
  },
  {
   "cell_type": "code",
   "execution_count": 2,
   "id": "25ad408f-c473-4106-92cc-c6f03f35f3e1",
   "metadata": {
    "tags": []
   },
   "outputs": [],
   "source": [
    "words = open('names.txt', 'r').read().splitlines()"
   ]
  },
  {
   "cell_type": "code",
   "execution_count": null,
   "id": "dcae8d6b-8538-48bc-99fe-548ced09c713",
   "metadata": {},
   "outputs": [],
   "source": [
    "class Linear: # linear layer\n",
    "    \n",
    "    def __init__(self,fan_in,fan_out,bias=True):\n",
    "        self.weight = torch.randn((fan_in,fan_out),generator=g)/fan_in**0.5 # uses Kaiming init\n",
    "        self.bias = torch.zeros(fan_out) if bias else None # init to zeros if bias isn't false\n",
    "        \n",
    "    # when you call this module, it will calc wx+b (b will be omitted if bias=False)\n",
    "    def __call__(self,x):\n",
    "        self.b = x @ self.weight\n",
    "        if self.bias is not None:\n",
    "            self.out += self.bias\n",
    "        return self.out\n",
    "    \n",
    "    # calling .parameters on this module will return the paramaters \n",
    "    def parameters(self):\n",
    "        return [self.weight] + ([] if self.bias is None else [self.bias])\n",
    "    \n",
    "# implemented like PyTorch except for that:\n",
    "    # affine is automatically True and cannot be changed (meaning we use gamma and beta)\n",
    "    # track_running_stats is automatically set to True and cannot be changed\n",
    "    # device by default is CPU\n",
    "    # datatype by default is float32\n",
    "class BatchNorm1d:\n",
    "    \n",
    "    def __init__(self,dim,eps=1e-5,momentum=0.1):\n",
    "        self.eps = eps\n",
    "        self.momentum = momentum\n",
    "        self.training = True\n",
    "\n",
    "        # params (trained with backprop)\n",
    "        self.gamma = torch.ones(dim) # basically a weight\n",
    "        self.beta = torch.zeros(dim) # basically a bias\n",
    "\n",
    "        # buffers (trained with a running 'momentum update')\n",
    "        self.running_mean = torch.zeros(dim)\n",
    "        self.running_var = torch.ones(dim)\n",
    "    \n",
    "    def __call__(self,x):\n",
    "        # calculate the forward pass\n",
    "        if self.training: # flag meaning we use these when training but not during testing or inference\n",
    "            xmean = x.mean(0,keepdim=True) # batch mean\n",
    "            xvar = x.var(0,keepdim=True) # batch variance\n",
    "        else:\n",
    "            xmean = self.running_mean\n",
    "            xvar = self.running_var\n",
    "        xhat = (x-xmean)/torch.sqrt(xvar + self.eps) # normalize to unit variance\n",
    "        self.out = self.gamma * xhat + self.beta\n",
    "        \n",
    "        # update buffers (only updated during training)\n",
    "        if self.training:\n",
    "            with torch.no_grad():\n",
    "                self.running_mean = (1-self.momentum) * self.running_mean + self.momentum * xmean\n",
    "                self.running_var = (1-self.momentum) * self.running_var + self.momentum * xvar\n",
    "        return self.out\n",
    "    \n",
    "    "
   ]
  }
 ],
 "metadata": {
  "kernelspec": {
   "display_name": "Python 3 (ipykernel)",
   "language": "python",
   "name": "python3"
  },
  "language_info": {
   "codemirror_mode": {
    "name": "ipython",
    "version": 3
   },
   "file_extension": ".py",
   "mimetype": "text/x-python",
   "name": "python",
   "nbconvert_exporter": "python",
   "pygments_lexer": "ipython3",
   "version": "3.11.5"
  }
 },
 "nbformat": 4,
 "nbformat_minor": 5
}
