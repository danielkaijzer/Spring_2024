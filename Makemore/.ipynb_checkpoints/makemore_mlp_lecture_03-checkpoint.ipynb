{
 "cells": [
  {
   "cell_type": "code",
   "execution_count": 1,
   "id": "1be613d1-fcc2-4256-a87c-16230de4ac8c",
   "metadata": {
    "tags": []
   },
   "outputs": [],
   "source": [
    "import torch\n",
    "import torch.nn.functional as F\n",
    "import matplotlib.pyplot as plt\n",
    "%matplotlib inline"
   ]
  },
  {
   "cell_type": "code",
   "execution_count": 2,
   "id": "25ad408f-c473-4106-92cc-c6f03f35f3e1",
   "metadata": {
    "tags": []
   },
   "outputs": [],
   "source": [
    "words = open('names.txt', 'r').read().splitlines()\n",
    "#words[:5]"
   ]
  },
  {
   "cell_type": "code",
   "execution_count": 3,
   "id": "4c289afd-aa60-4f99-9c84-d036fa12f7ae",
   "metadata": {
    "tags": []
   },
   "outputs": [],
   "source": [
    "# build the vocab of chars and mappings to/from ints\n",
    "chars = sorted(list(set(''.join(words))))\n",
    "stoi = {s:i+1 for i,s in enumerate(chars)} # chars from 1-26 are alpha\n",
    "stoi['.'] = 0 # special char to delineate begin/end of word\n",
    "itos = {i:s for s,i in stoi.items()}\n",
    "vocab_size = len(itos)\n",
    "#print(itos)"
   ]
  },
  {
   "cell_type": "code",
   "execution_count": 4,
   "id": "94aac71f-e441-43e9-ba79-131f5ae8452c",
   "metadata": {
    "tags": []
   },
   "outputs": [],
   "source": [
    "block_size = 3 # context length, how many chars we take to predict the next one\n",
    "n_embd = 10 # dimensionality of the character embedding vectors\n",
    "n_hidden = 200 # the number of neurons in the hidden layer of the MLP\n",
    "batch_size = 32\n",
    "max_steps = 200000\n",
    "decay_at = 10000"
   ]
  },
  {
   "cell_type": "code",
   "execution_count": 5,
   "id": "76bc11f7-5a8e-482e-9094-5d6b814b7429",
   "metadata": {
    "tags": []
   },
   "outputs": [],
   "source": [
    "# build the dataset (split into 3)\n",
    "\n",
    "def build_dataset(words):\n",
    "    X, Y = [], []\n",
    "    for w in words:\n",
    "        context = [0] * block_size # padded tokens\n",
    "        for ch in w + '.':\n",
    "            ix = stoi[ch]\n",
    "            X.append(context)\n",
    "            Y.append(ix)\n",
    "            context = context[1:] + [ix] # crop and append\n",
    "            \n",
    "    X = torch.tensor(X)\n",
    "    Y = torch.tensor(Y)\n",
    "    #print(X.shape,Y.shape)\n",
    "    return X,Y\n",
    "\n",
    "import random\n",
    "random.seed(42)\n",
    "random.shuffle(words) # randomly shuffle words (so unsorted)\n",
    "n1 = int(0.8*len(words))\n",
    "n2 = int(0.9*len(words))\n",
    "\n",
    "Xtr, Ytr = build_dataset(words[:n1]) # build training dataset (words 80% of dataset)\n",
    "Xdev, Ydev = build_dataset(words[n1:n2]) # build dev dataset (words 80-90, so 10%)\n",
    "Xte, Yte = build_dataset(words[n2:]) # build test dataset (words 90-100, so last 10% of dataset)"
   ]
  },
  {
   "cell_type": "code",
   "execution_count": 6,
   "id": "6052d447-e9b4-42d4-9d57-c2c3c0860d8f",
   "metadata": {
    "tags": []
   },
   "outputs": [],
   "source": [
    "#block_size * LUT_dim"
   ]
  },
  {
   "cell_type": "code",
   "execution_count": 30,
   "id": "6b1ac371-552c-4326-aea1-20ddf0e746c4",
   "metadata": {
    "tags": []
   },
   "outputs": [],
   "source": [
    "# params\n",
    "g = torch.Generator().manual_seed(2147483647) # for reproducibility\n",
    "C = torch.randn((vocab_size,n_embd), generator=g) # puts 27 chars in 10 dims\n",
    "W1 = torch.randn((block_size * n_embd ,n_hidden), generator=g) \n",
    "b1 = torch.randn(n_hidden, generator=g) # will be broadcasted when added to W1\n",
    "W2 = torch.randn((n_hidden,vocab_size), generator=g) * 0.01 # scaled down initialized weight\n",
    "b2 = torch.randn(vocab_size, generator=g) * 0 # b2 is 0 at initialization\n",
    "parameters = [C,W1,b1,W2,b2]\n",
    "\n",
    "sum(p.nelement() for p in parameters)\n",
    "\n",
    "for p in parameters:\n",
    "    p.requires_grad = True"
   ]
  },
  {
   "cell_type": "code",
   "execution_count": 31,
   "id": "5c4a9a9c-ae3e-4912-ba91-6b8c4fb7a910",
   "metadata": {
    "tags": []
   },
   "outputs": [
    {
     "name": "stdout",
     "output_type": "stream",
     "text": [
      "      0/ 200000:  3.322059\n"
     ]
    }
   ],
   "source": [
    "# TRAINING LOOP using minibatches\n",
    "lossi = []\n",
    "\n",
    "for i in range(max_steps):\n",
    "    # minibatch construct\n",
    "    ix = torch.randint(0,Xtr.shape[0], (batch_size,), generator=g)\n",
    "    Xb, Yb = Xtr[ix], Ytr[ix] # batch X, Y\n",
    "    \n",
    "    # forward pass\n",
    "    emb = C[Xb] # UPDATED build LUT embedding matrix, (32, num of chars (3), dims of LUT (10) )\n",
    "    embcat = emb.view(emb.shape[0], -1) # concatenate the vectors\n",
    "    hpreact = embcat @ W1 + b1 # hidden layer pre-activation\n",
    "    h = torch.tanh(hpreact) # (batch_size, hidden_layer_size) hidden layer\n",
    "    logits = h @ W2 + b2 # (batch_size,27)\n",
    "    loss = F.cross_entropy(logits,Yb) # replaces counts, prob and loss lines above\n",
    "    \n",
    "    # backward pass\n",
    "    for p in parameters:\n",
    "        p.grad = None # initialize grad vals to 0\n",
    "    loss.backward() # populates gradients\n",
    "\n",
    "    # update parameters\n",
    "    #lr = lrs[i]\n",
    "    lr = 0.1 if i < decay_at else 0.01 # decay after 100,000 steps\n",
    "    for p in parameters:\n",
    "        p.data += -lr * p.grad \n",
    "        \n",
    "    # track stats for learning rates\n",
    "    if i % 10000 == 0: # print every once in a while\n",
    "        print(f'{i:7d}/{max_steps:7d}: {loss.item(): 4f}')\n",
    "    lossi.append(loss.log10().item()) # track log loss \n",
    "                   \n",
    "    break\n",
    "        \n",
    "#print(loss.item()) # calculates loss on minibatch"
   ]
  },
  {
   "cell_type": "code",
   "execution_count": 18,
   "id": "070696fc-7371-429b-882c-dcbff2068099",
   "metadata": {
    "tags": []
   },
   "outputs": [
    {
     "data": {
      "text/plain": [
       "tensor(3.2958)"
      ]
     },
     "execution_count": 18,
     "metadata": {},
     "output_type": "execute_result"
    }
   ],
   "source": [
    "# calculate negative log probability of uniform distribution for initialization\n",
    "# should be 1/27.0\n",
    "-torch.tensor(1/27.0).log()"
   ]
  },
  {
   "cell_type": "code",
   "execution_count": 15,
   "id": "bd6b333d-994b-4240-934f-731b8c41b44b",
   "metadata": {
    "tags": []
   },
   "outputs": [
    {
     "data": {
      "text/plain": [
       "[<matplotlib.lines.Line2D at 0x16b681110>]"
      ]
     },
     "execution_count": 15,
     "metadata": {},
     "output_type": "execute_result"
    },
    {
     "data": {
      "image/png": "[encoded data removed]",
      "text/plain": [
       "<Figure size 640x480 with 1 Axes>"
      ]
     },
     "metadata": {},
     "output_type": "display_data"
    }
   ],
   "source": [
    "plt.plot(lossi)"
   ]
  },
  {
   "cell_type": "code",
   "execution_count": 16,
   "id": "41d8d7e5-a45b-444a-a21f-18d4b9c76d2e",
   "metadata": {
    "tags": []
   },
   "outputs": [
    {
     "name": "stdout",
     "output_type": "stream",
     "text": [
      "train 2.1885077953338623\n",
      "val 2.2175230979919434\n"
     ]
    }
   ],
   "source": [
    "@torch.no_grad() # this decorator disables gradient tracking\n",
    "def split_loss(split): # argument is which split you want to evaluate\n",
    "    x,y = {\n",
    "        'train': (Xtr,Ytr),\n",
    "        'val': (Xdev,Ydev), # validation/dev dataset\n",
    "        'test': (Xte,Yte),\n",
    "    }[split]\n",
    "    \n",
    "    # forward pass of network and evaluation of loss for split\n",
    "    emb = C[x] #(N, block_size, n_embd)\n",
    "    embcat = emb.view(emb.shape[0],-1) #concat into (N, block_size * n_embd)\n",
    "    h = torch.tanh(embcat @ W1 + b1) # (N, n_hidden)\n",
    "    logits = h @ W2 + b2 # (N, vocab_size)\n",
    "    loss = F.cross_entropy(logits, y)\n",
    "    print(split,loss.item())\n",
    "    \n",
    "split_loss('train')\n",
    "split_loss('val')"
   ]
  },
  {
   "cell_type": "code",
   "execution_count": 17,
   "id": "c03669b3-7edc-4f78-9467-e29ad66ced74",
   "metadata": {
    "tags": []
   },
   "outputs": [
    {
     "name": "stdout",
     "output_type": "stream",
     "text": [
      "carlah.\n",
      "amille.\n",
      "khi.\n",
      "myli.\n",
      "thiyah.\n",
      "cassie.\n",
      "mahnen.\n",
      "den.\n",
      "rha.\n",
      "kaqui.\n",
      "nellara.\n",
      "chriivon.\n",
      "leig.\n",
      "dham.\n",
      "jorn.\n",
      "quint.\n",
      "sroilwa.\n",
      "jadiq.\n",
      "wazelo.\n",
      "dearyni.\n"
     ]
    }
   ],
   "source": [
    "# sample from model\n",
    "g = torch.Generator().manual_seed(2147483647 + 10)\n",
    "\n",
    "for _ in range(20):\n",
    "    \n",
    "    out = []\n",
    "    context = [0] * block_size # init iwith all ..\n",
    "    \n",
    "    while True:\n",
    "        # forward pass the neural net\n",
    "        emb = C[torch.tensor([context])] # (1, block_size, n_embd) # dim 1 because we're making one example\n",
    "        h = torch.tanh(emb.view(1,-1) @ W1 + b1)\n",
    "        logits = h @ W2 + b2 # get probabilities from model\n",
    "        probs = F.softmax(logits, dim=1) # exponentiate logits to sum to 1\n",
    "        ix = torch.multinomial(probs,num_samples=1, generator=g).item() # grab random sample (random char from distribution)\n",
    "        context = context[1:] + [ix] # shift context window\n",
    "        out.append(ix) # record context window\n",
    "        \n",
    "        # if we sample the special '.' token, break\n",
    "        if ix == 0:\n",
    "            break\n",
    "            \n",
    "    print(''.join(itos[i] for i in out)) # decode and print the generated word"
   ]
  },
  {
   "cell_type": "markdown",
   "id": "8edeed05-1cf1-497b-b50a-82fd630d6b89",
   "metadata": {},
   "source": [
    "Where I left off:\n",
    "https://youtu.be/P6sfmUTpUmc?t=804"
   ]
  }
 ],
 "metadata": {
  "kernelspec": {
   "display_name": "Python 3 (ipykernel)",
   "language": "python",
   "name": "python3"
  },
  "language_info": {
   "codemirror_mode": {
    "name": "ipython",
    "version": 3
   },
   "file_extension": ".py",
   "mimetype": "text/x-python",
   "name": "python",
   "nbconvert_exporter": "python",
   "pygments_lexer": "ipython3",
   "version": "3.11.5"
  }
 },
 "nbformat": 4,
 "nbformat_minor": 5
}
