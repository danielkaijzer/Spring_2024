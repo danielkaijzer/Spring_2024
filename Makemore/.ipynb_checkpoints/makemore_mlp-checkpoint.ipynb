{
 "cells": [
  {
   "cell_type": "markdown",
   "id": "772f530d-001b-4052-b935-6c81d3abebfa",
   "metadata": {},
   "source": [
    "## Problem: \n",
    "    we want to solve: How to take larger contexts in a manageable way. \n",
    "    We cannot just use tables like we did with bigrams (context of one char to predict next char) because they grow exponentially. \n",
    "## Solution:\n",
    "    We will use approach used in Bengio et al. paper. We will embed chars into a n dimensional vector space (a space smaller than number of chars which is 27). \n",
    "    \n",
    "    In this space related chars will be clustered together within the vector space, allowing us to generalize relationships so we can predict next chars in novel starting points.\n",
    "    \n",
    "    At first the embeddings will be random, i.e., the vectors representing chars will be placed randomly within the vector space. Then, using backpropagation in our multilayer neural network, we will change the locations of the vectors within the vector space so that chars that are often combined (in a context of n characters) are placed closely together.\n",
    "    \n",
    "    \"We can, through the embedding space, transfer knowledge and generalize to novel scenarios.\""
   ]
  },
  {
   "cell_type": "markdown",
   "id": "5d45aded-5db9-44d9-9f49-bec37b7e9a0b",
   "metadata": {
    "tags": []
   },
   "source": [
    "### What our neural network architecture looks like:\n",
    "\n",
    "It will essentially consist of 3 main layers:\n",
    "1. An input layer\n",
    "    - where the size depends on: \n",
    "        1. n - the context length (how many chars we will use to predict next char)\n",
    "        2. m - the number of dimensions of the vector space we will use to embed chars (i.e., represent unique chars as a vector of m numbers).\n",
    "    - number of neurons in our input layer is n * m\n",
    "    - this first layer has linear neurons (i.e., neurons with no non-linearity) and their weight matrix is the LUT C (the embedding matrix). We are essentially encoding ints into one-hot, embedding them into the LUT, and then feeding the embedding LUT C into the next layer of our NN (which is 2. the hidden layer)\n",
    "2. A \"hidden layer\" that has a tanh non-linearity. This layer is fully connected to our input layer\n",
    "    - i.e., fully connected to the numbers representing the n chars used as inputs. So the n*m inputs will be fed into the tanh layer\n",
    "3. An output layer \n",
    "    - all neurons of output layer are fully connected to all neurons of tanh (non-linearity) layer\n",
    "    - will output a char chosen from the 27 possible number of chars. The chosen char will be the char with the highest probability based off of the previous n chars. And this probability will be tuned over several epochs to minimize a loss value (which measures the quality of our NN).\n",
    "        - Note: the loss will use negative log likelihood\n",
    "    - Most computation will be in this output layer. So this layer is the most performance expensive layer of our NN.\n",
    "    - This layer will have 27 logits, so this layer will have softmax layer on top of it. Everyone of these logits gets exponentiated and they are normalized so all logits sum to 1. This will then give us a useful probability distribution for the next char in the sequence.\n",
    "        - During training we will have labels (the identity of the correct next char in the sequence). That char (represented as an int index) will be used to pluck out the probability of that char. The NN will be trained, i.e., the parameters of our NN will be tuned, to maximize the probability of that char (given the n previous chars in the sequence). \n",
    "\n",
    "Note: These parameters of our NN are the weights and biases of the output layer and our hidden layer, as well as the embedding LUT (C) within our input layer. All these parameters are optimized using backprop.\n",
    "    "
   ]
  },
  {
   "cell_type": "code",
   "execution_count": 1,
   "id": "f864b016-f0e2-4b39-a5dd-5b67b370e962",
   "metadata": {},
   "outputs": [],
   "source": [
    "import torch\n",
    "import torch.nn.functional as F\n",
    "import matplotlib.pyplot as plt\n",
    "%matplotlib inline"
   ]
  },
  {
   "cell_type": "code",
   "execution_count": 2,
   "id": "0d9631da-2da8-4309-b72d-bd8bc57a8e84",
   "metadata": {
    "tags": []
   },
   "outputs": [
    {
     "data": {
      "text/plain": [
       "['emma', 'olivia', 'ava', 'isabella', 'sophia', 'charlotte', 'mia', 'amelia']"
      ]
     },
     "execution_count": 2,
     "metadata": {},
     "output_type": "execute_result"
    }
   ],
   "source": [
    "words = open('names.txt', 'r').read().splitlines()\n",
    "words[:8]"
   ]
  },
  {
   "cell_type": "code",
   "execution_count": 3,
   "id": "b2ccdb0b-9e84-4da1-955b-1ef8c3def003",
   "metadata": {
    "tags": []
   },
   "outputs": [
    {
     "data": {
      "text/plain": [
       "32033"
      ]
     },
     "execution_count": 3,
     "metadata": {},
     "output_type": "execute_result"
    }
   ],
   "source": [
    "len(words) # print number of names"
   ]
  },
  {
   "cell_type": "code",
   "execution_count": 4,
   "id": "8edd6f3b-d607-4aa4-950c-59bcb3940889",
   "metadata": {
    "tags": []
   },
   "outputs": [
    {
     "name": "stdout",
     "output_type": "stream",
     "text": [
      "{1: 'a', 2: 'b', 3: 'c', 4: 'd', 5: 'e', 6: 'f', 7: 'g', 8: 'h', 9: 'i', 10: 'j', 11: 'k', 12: 'l', 13: 'm', 14: 'n', 15: 'o', 16: 'p', 17: 'q', 18: 'r', 19: 's', 20: 't', 21: 'u', 22: 'v', 23: 'w', 24: 'x', 25: 'y', 26: 'z', 0: '.'}\n"
     ]
    }
   ],
   "source": [
    "# build the vocab of chars and mappings to/from ints\n",
    "chars = sorted(list(set(''.join(words))))\n",
    "stoi = {s:i+1 for i,s in enumerate(chars)} # chars from 1-26 are alpha\n",
    "stoi['.'] = 0 # special char to delineate begin/end of word\n",
    "itos = {i:s for s,i in stoi.items()}\n",
    "print(itos)"
   ]
  },
  {
   "cell_type": "code",
   "execution_count": 5,
   "id": "1b18c499-7285-41f7-9567-2901254ec446",
   "metadata": {
    "tags": []
   },
   "outputs": [
    {
     "name": "stdout",
     "output_type": "stream",
     "text": [
      "emma\n",
      "... ----> e\n",
      "..e ----> m\n",
      ".em ----> m\n",
      "emm ----> a\n",
      "mma ----> .\n",
      "olivia\n",
      "... ----> o\n",
      "..o ----> l\n",
      ".ol ----> i\n",
      "oli ----> v\n",
      "liv ----> i\n",
      "ivi ----> a\n",
      "via ----> .\n",
      "ava\n",
      "... ----> a\n",
      "..a ----> v\n",
      ".av ----> a\n",
      "ava ----> .\n",
      "isabella\n",
      "... ----> i\n",
      "..i ----> s\n",
      ".is ----> a\n",
      "isa ----> b\n",
      "sab ----> e\n",
      "abe ----> l\n",
      "bel ----> l\n",
      "ell ----> a\n",
      "lla ----> .\n",
      "sophia\n",
      "... ----> s\n",
      "..s ----> o\n",
      ".so ----> p\n",
      "sop ----> h\n",
      "oph ----> i\n",
      "phi ----> a\n",
      "hia ----> .\n"
     ]
    }
   ],
   "source": [
    "# build the dataset\n",
    "\n",
    "block_size = 3 # context length; num of previous tokens (chars) used to predict next token (char)\n",
    "X, Y = [],[] # X contains inputs to NN, Y contains the labels for each example inside X\n",
    "\n",
    "for w in words[:5]: # loop through training set (or subset of training set)\n",
    "    \n",
    "    print(w) # print entire word (name)\n",
    "    context = [0] * block_size # padded tokens, remember that 0 maps to '.' (special char)\n",
    "    for ch in w + '.':\n",
    "        ix = stoi[ch] # enumerate chars; convert ch to int val\n",
    "        X.append(context) # build out array X which stores running context\n",
    "        Y.append(ix) # build out array Y for current character\n",
    "        print(''.join(itos[i] for i in context), '---->', itos[ix])\n",
    "        context = context[1:] + [ix] # crop and append (rolling window of context), decrement padding as chars are appended\n",
    "        # remember location 1 above refers to second char in string\n",
    "\n",
    "X = torch.tensor(X)\n",
    "Y = torch.tensor(Y)"
   ]
  },
  {
   "cell_type": "code",
   "execution_count": 6,
   "id": "456b7f2c-6fbf-4a27-b9ac-2f0f0587f4b1",
   "metadata": {},
   "outputs": [
    {
     "data": {
      "text/plain": [
       "(torch.Size([32, 3]), torch.int64, torch.Size([32]), torch.int64)"
      ]
     },
     "execution_count": 6,
     "metadata": {},
     "output_type": "execute_result"
    }
   ],
   "source": [
    "X.shape, X.dtype, Y.shape, Y.dtype\n",
    "# from the 5 words (inputs) we have created a data set of 32 examples\n",
    "# and each input to the NN is 3 integers \n",
    "# label Y is also an integer "
   ]
  },
  {
   "cell_type": "code",
   "execution_count": 7,
   "id": "598135ab-d017-4604-a912-a3787d1784d7",
   "metadata": {
    "tags": []
   },
   "outputs": [
    {
     "data": {
      "text/plain": [
       "tensor([[ 0,  0,  0],\n",
       "        [ 0,  0,  5],\n",
       "        [ 0,  5, 13],\n",
       "        [ 5, 13, 13],\n",
       "        [13, 13,  1],\n",
       "        [ 0,  0,  0],\n",
       "        [ 0,  0, 15],\n",
       "        [ 0, 15, 12],\n",
       "        [15, 12,  9],\n",
       "        [12,  9, 22],\n",
       "        [ 9, 22,  9],\n",
       "        [22,  9,  1],\n",
       "        [ 0,  0,  0],\n",
       "        [ 0,  0,  1],\n",
       "        [ 0,  1, 22],\n",
       "        [ 1, 22,  1],\n",
       "        [ 0,  0,  0],\n",
       "        [ 0,  0,  9],\n",
       "        [ 0,  9, 19],\n",
       "        [ 9, 19,  1],\n",
       "        [19,  1,  2],\n",
       "        [ 1,  2,  5],\n",
       "        [ 2,  5, 12],\n",
       "        [ 5, 12, 12],\n",
       "        [12, 12,  1],\n",
       "        [ 0,  0,  0],\n",
       "        [ 0,  0, 19],\n",
       "        [ 0, 19, 15],\n",
       "        [19, 15, 16],\n",
       "        [15, 16,  8],\n",
       "        [16,  8,  9],\n",
       "        [ 8,  9,  1]])"
      ]
     },
     "execution_count": 7,
     "metadata": {},
     "output_type": "execute_result"
    }
   ],
   "source": [
    "X # X is a n x m matrix\n",
    "# n = number of input chars (examples) and m is context length (num of chars used to predict next char)"
   ]
  },
  {
   "cell_type": "markdown",
   "id": "23c810cd-d742-4165-91e8-1d3f9ccc34d2",
   "metadata": {
    "tags": []
   },
   "source": [
    "# Task: Build NN that takes Xs and predicts Ys"
   ]
  },
  {
   "cell_type": "markdown",
   "id": "c00f9712-8f68-4fd6-827c-e9c228ff6d89",
   "metadata": {},
   "source": [
    "## How embedding chars into the Look Up Table works\n",
    "\n",
    "We will use a char (an int between 0-26) to index into a $27*m$ matrix that represents a LUT, where m is the number of dimensions of a vector space we want to embed chars into.\n",
    "\n",
    "Every index (representing a char) is plucking out a row of the embedding matrix, so that each index is converted into the m-dimensional vector that corresponds to the embedding vector for that char.\n",
    "\n",
    "So basically embedding means we will represent an int (which itself represents a char) as a vector of m numbers (assuming float values). So if we have a context length of 3 chars and m = 30. Our input layer will have 90 numbers that represent 3 chars.\n",
    "\n",
    "The same LUT matrix will be shared by all chars"
   ]
  },
  {
   "cell_type": "markdown",
   "id": "38a1ba86-7306-43ca-98b4-859c05786863",
   "metadata": {},
   "source": [
    "### Build lookup table"
   ]
  },
  {
   "cell_type": "code",
   "execution_count": 8,
   "id": "cbc79b5b-8ef4-4404-b717-321859294b1e",
   "metadata": {
    "tags": []
   },
   "outputs": [],
   "source": [
    "# just like Bengio et al. paper, we will embed 27 possible chars\n",
    "# in smaller dimensional space\n",
    "\n",
    "# each of the 27 chars will have a 2-dimensional embedding\n",
    "C = torch.randn([27,2]) "
   ]
  },
  {
   "cell_type": "markdown",
   "id": "c5bb0bf7-0258-436b-af35-99eeca04ec51",
   "metadata": {},
   "source": [
    "#### We will embedd all ints inside input X into LUT C \n",
    "\n",
    "There are two ways to embed a single int (e.g., 5) into LUT C"
   ]
  },
  {
   "cell_type": "markdown",
   "id": "ef9eb0f3-ad28-4dcb-8d88-ae5c686a71ee",
   "metadata": {},
   "source": [
    "#### 1) take C and index into row 5"
   ]
  },
  {
   "cell_type": "code",
   "execution_count": 9,
   "id": "71bbb42e-ba88-4303-ae43-7de88b57157c",
   "metadata": {
    "tags": []
   },
   "outputs": [
    {
     "data": {
      "text/plain": [
       "tensor([ 1.1130, -0.6171])"
      ]
     },
     "execution_count": 9,
     "metadata": {},
     "output_type": "execute_result"
    }
   ],
   "source": [
    "C[5]"
   ]
  },
  {
   "cell_type": "markdown",
   "id": "0909044e-f23f-40f8-b106-e5fa9413c6cb",
   "metadata": {},
   "source": [
    "##### Method 2: use one-hot encoding \n",
    "- Even though it may not immediately seem like it, this method is actually identical to first method"
   ]
  },
  {
   "cell_type": "code",
   "execution_count": 10,
   "id": "a16a793f-c4a3-458d-8433-c428569acffa",
   "metadata": {
    "tags": []
   },
   "outputs": [
    {
     "data": {
      "text/plain": [
       "tensor([ 1.1130, -0.6171])"
      ]
     },
     "execution_count": 10,
     "metadata": {},
     "output_type": "execute_result"
    }
   ],
   "source": [
    "# create a 27-D vector (i.e., array of 27 nums) with all 0s except for the 5th element in vector which is 1\n",
    "# i.e., 5th dimension is 1\n",
    "# we then cast to float() so we can multiply by matrix C\n",
    "\n",
    "# the one-hot encoding will essentially pluck out 5th row of C\n",
    "# because 0s mask the other rows\n",
    "# giving us the same result as the first method for embeding an int above\n",
    "F.one_hot(torch.tensor(5), num_classes=27).float() @ C\n"
   ]
  },
  {
   "cell_type": "markdown",
   "id": "1375406a-1574-4355-b0fd-d07d4902999f",
   "metadata": {},
   "source": [
    "#### For efficiency we will use first method for embedding (just indexing into row of LUT C)"
   ]
  },
  {
   "cell_type": "markdown",
   "id": "ee6469c9-9d19-41fe-9a79-6dda32906ab4",
   "metadata": {},
   "source": [
    "Even easier, We can embed using tensors to simultaneously embed all 32x3 input ints (in array X) into the LUT"
   ]
  },
  {
   "cell_type": "code",
   "execution_count": 11,
   "id": "39ae6d71-98fc-4cc5-93e4-934f2a42ad12",
   "metadata": {
    "tags": []
   },
   "outputs": [],
   "source": [
    "# C[X] # prints the embedding of inputs tensor X\n",
    "# C[X].shape # [32,3,2] # 32 input nums, context length 3, embedded into 2 dimensions"
   ]
  },
  {
   "cell_type": "code",
   "execution_count": 12,
   "id": "1f3cdc82-253f-42ad-9854-eb189732bb69",
   "metadata": {
    "tags": []
   },
   "outputs": [
    {
     "data": {
      "text/plain": [
       "tensor(1)"
      ]
     },
     "execution_count": 12,
     "metadata": {},
     "output_type": "execute_result"
    }
   ],
   "source": [
    "X[13,2]"
   ]
  },
  {
   "cell_type": "code",
   "execution_count": 13,
   "id": "926173ba-8d40-4dbc-9071-d079e2eb8479",
   "metadata": {
    "tags": []
   },
   "outputs": [
    {
     "data": {
      "text/plain": [
       "tensor([1.0889, 0.6692])"
      ]
     },
     "execution_count": 13,
     "metadata": {},
     "output_type": "execute_result"
    }
   ],
   "source": [
    "C[X][13,2]"
   ]
  },
  {
   "cell_type": "code",
   "execution_count": 14,
   "id": "01ac5411-d57e-4ad4-a722-9d0738aac3d0",
   "metadata": {
    "tags": []
   },
   "outputs": [
    {
     "data": {
      "text/plain": [
       "tensor([1.0889, 0.6692])"
      ]
     },
     "execution_count": 14,
     "metadata": {},
     "output_type": "execute_result"
    }
   ],
   "source": [
    "C[1]"
   ]
  },
  {
   "cell_type": "code",
   "execution_count": 15,
   "id": "ebe6f9b4-2786-429f-b645-03618f587057",
   "metadata": {
    "tags": []
   },
   "outputs": [
    {
     "data": {
      "text/plain": [
       "torch.Size([32, 3, 2])"
      ]
     },
     "execution_count": 15,
     "metadata": {},
     "output_type": "execute_result"
    }
   ],
   "source": [
    "emb = C[X]\n",
    "emb.shape"
   ]
  },
  {
   "cell_type": "markdown",
   "id": "6fcdcba7-fb03-40b3-8990-71291992c84a",
   "metadata": {},
   "source": [
    "## Construct hidden layer"
   ]
  },
  {
   "cell_type": "code",
   "execution_count": 16,
   "id": "c3ee453b-1731-4855-b847-23c131cea8fd",
   "metadata": {
    "tags": []
   },
   "outputs": [],
   "source": [
    "# weights, the num of inputs to this layer will be 3x2 = 6 (3 2D embeddings)\n",
    "# num of neurons in this layer is a var up to us, we will use 100\n",
    "W1  = torch.randn((6,100))\n",
    "\n",
    "# biases\n",
    "b1 = torch.randn(100)"
   ]
  },
  {
   "cell_type": "markdown",
   "id": "ffa02da3-4816-4536-8d82-2b02af495e1b",
   "metadata": {
    "tags": []
   },
   "source": [
    "### what we want to do:\n",
    " ##### take input (i.e., embedding) and multiply it by weights and add bias\n",
    "emb @ W1 + b1\n",
    "\n",
    "### Problem, why we cant do this: The embeddings are stacked up in the dimensions of the tensor C\n",
    "\n",
    "### Solution: Concatenate inputs and transform [32,3,2] tensor into a [32,6] tensor\n",
    "\n",
    "There are many ways to do this in Torch, one way to concatenate the tensors in our input layer is using `torch.cat` (concatenates sequence of tensors in the given dimension)"
   ]
  },
  {
   "cell_type": "code",
   "execution_count": 31,
   "id": "3315587b-89ed-4260-9bb0-8e594da2b6a9",
   "metadata": {
    "tags": []
   },
   "outputs": [
    {
     "data": {
      "text/plain": [
       "torch.Size([32, 6])"
      ]
     },
     "execution_count": 31,
     "metadata": {},
     "output_type": "execute_result"
    }
   ],
   "source": [
    "# bad way to remove dimensions stacked up in tensor C and concatenate them.\n",
    "# bad because this is not generalizable/scalable, e.g., if we change the block size (i.e., context-length)\n",
    "\n",
    "torch.cat([emb[:,0,:],emb[:,1,:],emb[:,2,:]],1).shape # concatenates tensors along dimension 1 (second dimension)\n",
    "# essentially plucks out the 32 3x2 matrices and concatenates them so that we have 32 vectors with 6 elements"
   ]
  },
  {
   "cell_type": "code",
   "execution_count": 32,
   "id": "b796193f-356a-4155-a9c5-a2b68f287e4e",
   "metadata": {
    "tags": []
   },
   "outputs": [
    {
     "data": {
      "text/plain": [
       "tensor([[ 1.5055,  1.1186,  1.5055,  1.1186,  1.5055,  1.1186],\n",
       "        [ 1.5055,  1.1186,  1.5055,  1.1186,  1.1130, -0.6171],\n",
       "        [ 1.5055,  1.1186,  1.1130, -0.6171, -2.6094, -1.0616],\n",
       "        [ 1.1130, -0.6171, -2.6094, -1.0616, -2.6094, -1.0616],\n",
       "        [-2.6094, -1.0616, -2.6094, -1.0616,  1.0889,  0.6692],\n",
       "        [ 1.5055,  1.1186,  1.5055,  1.1186,  1.5055,  1.1186],\n",
       "        [ 1.5055,  1.1186,  1.5055,  1.1186, -1.0591,  0.4529],\n",
       "        [ 1.5055,  1.1186, -1.0591,  0.4529,  0.4321, -0.3790],\n",
       "        [-1.0591,  0.4529,  0.4321, -0.3790, -0.5064, -0.1180],\n",
       "        [ 0.4321, -0.3790, -0.5064, -0.1180,  0.8901, -0.0367],\n",
       "        [-0.5064, -0.1180,  0.8901, -0.0367, -0.5064, -0.1180],\n",
       "        [ 0.8901, -0.0367, -0.5064, -0.1180,  1.0889,  0.6692],\n",
       "        [ 1.5055,  1.1186,  1.5055,  1.1186,  1.5055,  1.1186],\n",
       "        [ 1.5055,  1.1186,  1.5055,  1.1186,  1.0889,  0.6692],\n",
       "        [ 1.5055,  1.1186,  1.0889,  0.6692,  0.8901, -0.0367],\n",
       "        [ 1.0889,  0.6692,  0.8901, -0.0367,  1.0889,  0.6692],\n",
       "        [ 1.5055,  1.1186,  1.5055,  1.1186,  1.5055,  1.1186],\n",
       "        [ 1.5055,  1.1186,  1.5055,  1.1186, -0.5064, -0.1180],\n",
       "        [ 1.5055,  1.1186, -0.5064, -0.1180, -0.9457,  0.3046],\n",
       "        [-0.5064, -0.1180, -0.9457,  0.3046,  1.0889,  0.6692],\n",
       "        [-0.9457,  0.3046,  1.0889,  0.6692, -0.9088, -1.4406],\n",
       "        [ 1.0889,  0.6692, -0.9088, -1.4406,  1.1130, -0.6171],\n",
       "        [-0.9088, -1.4406,  1.1130, -0.6171,  0.4321, -0.3790],\n",
       "        [ 1.1130, -0.6171,  0.4321, -0.3790,  0.4321, -0.3790],\n",
       "        [ 0.4321, -0.3790,  0.4321, -0.3790,  1.0889,  0.6692],\n",
       "        [ 1.5055,  1.1186,  1.5055,  1.1186,  1.5055,  1.1186],\n",
       "        [ 1.5055,  1.1186,  1.5055,  1.1186, -0.9457,  0.3046],\n",
       "        [ 1.5055,  1.1186, -0.9457,  0.3046, -1.0591,  0.4529],\n",
       "        [-0.9457,  0.3046, -1.0591,  0.4529,  0.6918, -0.5902],\n",
       "        [-1.0591,  0.4529,  0.6918, -0.5902,  1.1624, -0.7995],\n",
       "        [ 0.6918, -0.5902,  1.1624, -0.7995, -0.5064, -0.1180],\n",
       "        [ 1.1624, -0.7995, -0.5064, -0.1180,  1.0889,  0.6692]])"
      ]
     },
     "execution_count": 32,
     "metadata": {},
     "output_type": "execute_result"
    }
   ],
   "source": [
    "# better way to remove a Tensor dimension (pluck out the 32 3x2 matrices)\n",
    "tlist = torch.unbind(emb,1)\n",
    "# above is equivalent to list [emb[:,0,:],emb[:,1,:],emb[:,2,:]]\n",
    "torch.cat(tlist,1)"
   ]
  }
 ],
 "metadata": {
  "kernelspec": {
   "display_name": "Python 3 (ipykernel)",
   "language": "python",
   "name": "python3"
  },
  "language_info": {
   "codemirror_mode": {
    "name": "ipython",
    "version": 3
   },
   "file_extension": ".py",
   "mimetype": "text/x-python",
   "name": "python",
   "nbconvert_exporter": "python",
   "pygments_lexer": "ipython3",
   "version": "3.11.5"
  }
 },
 "nbformat": 4,
 "nbformat_minor": 5
}
