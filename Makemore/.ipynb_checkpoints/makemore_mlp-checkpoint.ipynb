{
 "cells": [
  {
   "cell_type": "code",
   "execution_count": 1,
   "id": "f864b016-f0e2-4b39-a5dd-5b67b370e962",
   "metadata": {},
   "outputs": [],
   "source": [
    "import torch\n",
    "import torch.nn.functional as F\n",
    "import matplotlib.pyplot as plt\n",
    "%matplotlib inline"
   ]
  },
  {
   "cell_type": "code",
   "execution_count": 2,
   "id": "0d9631da-2da8-4309-b72d-bd8bc57a8e84",
   "metadata": {
    "tags": []
   },
   "outputs": [
    {
     "data": {
      "text/plain": [
       "['emma', 'olivia', 'ava', 'isabella', 'sophia', 'charlotte', 'mia', 'amelia']"
      ]
     },
     "execution_count": 2,
     "metadata": {},
     "output_type": "execute_result"
    }
   ],
   "source": [
    "words = open('names.txt', 'r').read().splitlines()\n",
    "words[:8]"
   ]
  },
  {
   "cell_type": "code",
   "execution_count": 3,
   "id": "b2ccdb0b-9e84-4da1-955b-1ef8c3def003",
   "metadata": {
    "tags": []
   },
   "outputs": [
    {
     "data": {
      "text/plain": [
       "32033"
      ]
     },
     "execution_count": 3,
     "metadata": {},
     "output_type": "execute_result"
    }
   ],
   "source": [
    "len(words)"
   ]
  },
  {
   "cell_type": "code",
   "execution_count": 4,
   "id": "8edd6f3b-d607-4aa4-950c-59bcb3940889",
   "metadata": {
    "tags": []
   },
   "outputs": [
    {
     "name": "stdout",
     "output_type": "stream",
     "text": [
      "{1: 'a', 2: 'b', 3: 'c', 4: 'd', 5: 'e', 6: 'f', 7: 'g', 8: 'h', 9: 'i', 10: 'j', 11: 'k', 12: 'l', 13: 'm', 14: 'n', 15: 'o', 16: 'p', 17: 'q', 18: 'r', 19: 's', 20: 't', 21: 'u', 22: 'v', 23: 'w', 24: 'x', 25: 'y', 26: 'z', 0: '.'}\n"
     ]
    }
   ],
   "source": [
    "# build the vocab of chars and mappings to/from ints\n",
    "chars = sorted(list(set(''.join(words))))\n",
    "stoi = {s:i+1 for i,s in enumerate(chars)} # chars from 1-26 are alpha\n",
    "stoi['.'] = 0 # special char to delineate begin/end of word\n",
    "itos = {i:s for s,i in stoi.items()}\n",
    "print(itos)"
   ]
  },
  {
   "cell_type": "code",
   "execution_count": 5,
   "id": "1b18c499-7285-41f7-9567-2901254ec446",
   "metadata": {
    "tags": []
   },
   "outputs": [
    {
     "name": "stdout",
     "output_type": "stream",
     "text": [
      "emma\n",
      "... ----> e\n",
      "..e ----> m\n",
      ".em ----> m\n",
      "emm ----> a\n",
      "mma ----> .\n",
      "olivia\n",
      "... ----> o\n",
      "..o ----> l\n",
      ".ol ----> i\n",
      "oli ----> v\n",
      "liv ----> i\n",
      "ivi ----> a\n",
      "via ----> .\n",
      "ava\n",
      "... ----> a\n",
      "..a ----> v\n",
      ".av ----> a\n",
      "ava ----> .\n",
      "isabella\n",
      "... ----> i\n",
      "..i ----> s\n",
      ".is ----> a\n",
      "isa ----> b\n",
      "sab ----> e\n",
      "abe ----> l\n",
      "bel ----> l\n",
      "ell ----> a\n",
      "lla ----> .\n",
      "sophia\n",
      "... ----> s\n",
      "..s ----> o\n",
      ".so ----> p\n",
      "sop ----> h\n",
      "oph ----> i\n",
      "phi ----> a\n",
      "hia ----> .\n"
     ]
    }
   ],
   "source": [
    "# build the dataset\n",
    "\n",
    "block_size = 3 # context length; num of previous tokens (chars) used to predict next token (char)\n",
    "X, Y = [],[]\n",
    "\n",
    "for w in words[:5]:\n",
    "    \n",
    "    print(w) # print entire word (name)\n",
    "    context = [0] * block_size\n",
    "    for ch in w + '.':\n",
    "        ix = stoi[ch] # enumerate chars; convert ch to int val\n",
    "        X.append(context)\n",
    "        Y.append(ix)\n",
    "        print(''.join(itos[i] for i in context), '---->', itos[ix])\n",
    "        context = context[1:] + [ix] # crop and append\n",
    "        # remember location 1 above refers to second char in string\n",
    "\n",
    "X = torch.tensor(X)\n",
    "Y = torch.tensor(Y)"
   ]
  },
  {
   "cell_type": "code",
   "execution_count": 6,
   "id": "456b7f2c-6fbf-4a27-b9ac-2f0f0587f4b1",
   "metadata": {},
   "outputs": [
    {
     "data": {
      "text/plain": [
       "(torch.Size([32, 3]), torch.int64, torch.Size([32]), torch.int64)"
      ]
     },
     "execution_count": 6,
     "metadata": {},
     "output_type": "execute_result"
    }
   ],
   "source": [
    "X.shape, X.dtype, Y.shape, Y.dtype"
   ]
  },
  {
   "cell_type": "markdown",
   "id": "38a1ba86-7306-43ca-98b4-859c05786863",
   "metadata": {},
   "source": [
    "### Build lookup table"
   ]
  },
  {
   "cell_type": "code",
   "execution_count": 7,
   "id": "cbc79b5b-8ef4-4404-b717-321859294b1e",
   "metadata": {
    "tags": []
   },
   "outputs": [],
   "source": [
    "# just like Bengio et al. paper, we will embed 27 possible chars\n",
    "# in smaller dimensional space\n",
    "\n",
    "# each of the 27 chars will have a 2 dimensional embedding\n",
    "C = torch.randn([27,2]) "
   ]
  },
  {
   "cell_type": "markdown",
   "id": "c5bb0bf7-0258-436b-af35-99eeca04ec51",
   "metadata": {},
   "source": [
    "#### We will embedd all ints inside input X into LUT C \n",
    "\n",
    "There are two ways to embed a single int (e.g., 5) into LUT C"
   ]
  },
  {
   "cell_type": "markdown",
   "id": "ef9eb0f3-ad28-4dcb-8d88-ae5c686a71ee",
   "metadata": {},
   "source": [
    "#### 1) take C and index into row 5"
   ]
  },
  {
   "cell_type": "code",
   "execution_count": 8,
   "id": "71bbb42e-ba88-4303-ae43-7de88b57157c",
   "metadata": {
    "tags": []
   },
   "outputs": [
    {
     "data": {
      "text/plain": [
       "tensor([0.9119, 1.1383])"
      ]
     },
     "execution_count": 8,
     "metadata": {},
     "output_type": "execute_result"
    }
   ],
   "source": [
    "C[5]"
   ]
  },
  {
   "cell_type": "markdown",
   "id": "0909044e-f23f-40f8-b106-e5fa9413c6cb",
   "metadata": {},
   "source": [
    "##### Method 2: use one-hot encoding"
   ]
  },
  {
   "cell_type": "code",
   "execution_count": 9,
   "id": "a16a793f-c4a3-458d-8433-c428569acffa",
   "metadata": {
    "tags": []
   },
   "outputs": [
    {
     "data": {
      "text/plain": [
       "tensor([0.9119, 1.1383])"
      ]
     },
     "execution_count": 9,
     "metadata": {},
     "output_type": "execute_result"
    }
   ],
   "source": [
    "# this will create a vector of dimension 27 with all rows as 0 except the 5th row\n",
    "# i.e., 5th dimension is 1\n",
    "# we then cast to float() so we can multiply by matrix C\n",
    "# the one-hot encoding will essentially pluck out 5th row of C\n",
    "# because 0s mask the other rows\n",
    "# giving us the same result as the first method for embeding an int above\n",
    "F.one_hot(torch.tensor(5), num_classes=27).float() @ C\n"
   ]
  },
  {
   "cell_type": "markdown",
   "id": "1375406a-1574-4355-b0fd-d07d4902999f",
   "metadata": {},
   "source": [
    "#### For efficiency we will use first method for embedding (just indexing into row of LUT C)"
   ]
  },
  {
   "cell_type": "markdown",
   "id": "ee6469c9-9d19-41fe-9a79-6dda32906ab4",
   "metadata": {},
   "source": [
    "Even easier, We can embed using tensors"
   ]
  },
  {
   "cell_type": "code",
   "execution_count": 10,
   "id": "39ae6d71-98fc-4cc5-93e4-934f2a42ad12",
   "metadata": {
    "tags": []
   },
   "outputs": [
    {
     "data": {
      "text/plain": [
       "tensor([[[-1.8119, -1.6883],\n",
       "         [-1.8119, -1.6883],\n",
       "         [-1.8119, -1.6883]],\n",
       "\n",
       "        [[-1.8119, -1.6883],\n",
       "         [-1.8119, -1.6883],\n",
       "         [ 0.9119,  1.1383]],\n",
       "\n",
       "        [[-1.8119, -1.6883],\n",
       "         [ 0.9119,  1.1383],\n",
       "         [ 1.1984,  0.6829]],\n",
       "\n",
       "        [[ 0.9119,  1.1383],\n",
       "         [ 1.1984,  0.6829],\n",
       "         [ 1.1984,  0.6829]],\n",
       "\n",
       "        [[ 1.1984,  0.6829],\n",
       "         [ 1.1984,  0.6829],\n",
       "         [ 0.2722, -0.1781]],\n",
       "\n",
       "        [[-1.8119, -1.6883],\n",
       "         [-1.8119, -1.6883],\n",
       "         [-1.8119, -1.6883]],\n",
       "\n",
       "        [[-1.8119, -1.6883],\n",
       "         [-1.8119, -1.6883],\n",
       "         [ 0.0048,  0.8908]],\n",
       "\n",
       "        [[-1.8119, -1.6883],\n",
       "         [ 0.0048,  0.8908],\n",
       "         [-0.3938, -0.9874]],\n",
       "\n",
       "        [[ 0.0048,  0.8908],\n",
       "         [-0.3938, -0.9874],\n",
       "         [-0.8518, -0.5463]],\n",
       "\n",
       "        [[-0.3938, -0.9874],\n",
       "         [-0.8518, -0.5463],\n",
       "         [ 0.0326, -0.7204]],\n",
       "\n",
       "        [[-0.8518, -0.5463],\n",
       "         [ 0.0326, -0.7204],\n",
       "         [-0.8518, -0.5463]],\n",
       "\n",
       "        [[ 0.0326, -0.7204],\n",
       "         [-0.8518, -0.5463],\n",
       "         [ 0.2722, -0.1781]],\n",
       "\n",
       "        [[-1.8119, -1.6883],\n",
       "         [-1.8119, -1.6883],\n",
       "         [-1.8119, -1.6883]],\n",
       "\n",
       "        [[-1.8119, -1.6883],\n",
       "         [-1.8119, -1.6883],\n",
       "         [ 0.2722, -0.1781]],\n",
       "\n",
       "        [[-1.8119, -1.6883],\n",
       "         [ 0.2722, -0.1781],\n",
       "         [ 0.0326, -0.7204]],\n",
       "\n",
       "        [[ 0.2722, -0.1781],\n",
       "         [ 0.0326, -0.7204],\n",
       "         [ 0.2722, -0.1781]],\n",
       "\n",
       "        [[-1.8119, -1.6883],\n",
       "         [-1.8119, -1.6883],\n",
       "         [-1.8119, -1.6883]],\n",
       "\n",
       "        [[-1.8119, -1.6883],\n",
       "         [-1.8119, -1.6883],\n",
       "         [-0.8518, -0.5463]],\n",
       "\n",
       "        [[-1.8119, -1.6883],\n",
       "         [-0.8518, -0.5463],\n",
       "         [-2.8650,  0.1591]],\n",
       "\n",
       "        [[-0.8518, -0.5463],\n",
       "         [-2.8650,  0.1591],\n",
       "         [ 0.2722, -0.1781]],\n",
       "\n",
       "        [[-2.8650,  0.1591],\n",
       "         [ 0.2722, -0.1781],\n",
       "         [-0.8188, -1.0833]],\n",
       "\n",
       "        [[ 0.2722, -0.1781],\n",
       "         [-0.8188, -1.0833],\n",
       "         [ 0.9119,  1.1383]],\n",
       "\n",
       "        [[-0.8188, -1.0833],\n",
       "         [ 0.9119,  1.1383],\n",
       "         [-0.3938, -0.9874]],\n",
       "\n",
       "        [[ 0.9119,  1.1383],\n",
       "         [-0.3938, -0.9874],\n",
       "         [-0.3938, -0.9874]],\n",
       "\n",
       "        [[-0.3938, -0.9874],\n",
       "         [-0.3938, -0.9874],\n",
       "         [ 0.2722, -0.1781]],\n",
       "\n",
       "        [[-1.8119, -1.6883],\n",
       "         [-1.8119, -1.6883],\n",
       "         [-1.8119, -1.6883]],\n",
       "\n",
       "        [[-1.8119, -1.6883],\n",
       "         [-1.8119, -1.6883],\n",
       "         [-2.8650,  0.1591]],\n",
       "\n",
       "        [[-1.8119, -1.6883],\n",
       "         [-2.8650,  0.1591],\n",
       "         [ 0.0048,  0.8908]],\n",
       "\n",
       "        [[-2.8650,  0.1591],\n",
       "         [ 0.0048,  0.8908],\n",
       "         [ 0.2426,  0.3805]],\n",
       "\n",
       "        [[ 0.0048,  0.8908],\n",
       "         [ 0.2426,  0.3805],\n",
       "         [-1.3918,  0.1082]],\n",
       "\n",
       "        [[ 0.2426,  0.3805],\n",
       "         [-1.3918,  0.1082],\n",
       "         [-0.8518, -0.5463]],\n",
       "\n",
       "        [[-1.3918,  0.1082],\n",
       "         [-0.8518, -0.5463],\n",
       "         [ 0.2722, -0.1781]]])"
      ]
     },
     "execution_count": 10,
     "metadata": {},
     "output_type": "execute_result"
    }
   ],
   "source": [
    "C[X]"
   ]
  },
  {
   "cell_type": "code",
   "execution_count": 14,
   "id": "1f3cdc82-253f-42ad-9854-eb189732bb69",
   "metadata": {
    "tags": []
   },
   "outputs": [
    {
     "data": {
      "text/plain": [
       "tensor(1)"
      ]
     },
     "execution_count": 14,
     "metadata": {},
     "output_type": "execute_result"
    }
   ],
   "source": [
    "X[13,2]"
   ]
  },
  {
   "cell_type": "code",
   "execution_count": 16,
   "id": "926173ba-8d40-4dbc-9071-d079e2eb8479",
   "metadata": {
    "tags": []
   },
   "outputs": [
    {
     "data": {
      "text/plain": [
       "tensor([ 0.2722, -0.1781])"
      ]
     },
     "execution_count": 16,
     "metadata": {},
     "output_type": "execute_result"
    }
   ],
   "source": [
    "C[X][13,2]"
   ]
  },
  {
   "cell_type": "code",
   "execution_count": 13,
   "id": "01ac5411-d57e-4ad4-a722-9d0738aac3d0",
   "metadata": {
    "tags": []
   },
   "outputs": [
    {
     "data": {
      "text/plain": [
       "tensor([ 0.2722, -0.1781])"
      ]
     },
     "execution_count": 13,
     "metadata": {},
     "output_type": "execute_result"
    }
   ],
   "source": [
    "C[1]"
   ]
  }
 ],
 "metadata": {
  "kernelspec": {
   "display_name": "Python 3 (ipykernel)",
   "language": "python",
   "name": "python3"
  },
  "language_info": {
   "codemirror_mode": {
    "name": "ipython",
    "version": 3
   },
   "file_extension": ".py",
   "mimetype": "text/x-python",
   "name": "python",
   "nbconvert_exporter": "python",
   "pygments_lexer": "ipython3",
   "version": "3.11.5"
  }
 },
 "nbformat": 4,
 "nbformat_minor": 5
}
