{
 "cells": [
  {
   "cell_type": "code",
   "execution_count": 1,
   "id": "1be613d1-fcc2-4256-a87c-16230de4ac8c",
   "metadata": {
    "tags": []
   },
   "outputs": [],
   "source": [
    "import torch\n",
    "import torch.nn.functional as F\n",
    "import matplotlib.pyplot as plt\n",
    "%matplotlib inline"
   ]
  },
  {
   "cell_type": "code",
   "execution_count": 2,
   "id": "25ad408f-c473-4106-92cc-c6f03f35f3e1",
   "metadata": {
    "tags": []
   },
   "outputs": [],
   "source": [
    "words = open('names.txt', 'r').read().splitlines()\n",
    "#words[:5]"
   ]
  },
  {
   "cell_type": "code",
   "execution_count": 3,
   "id": "4c289afd-aa60-4f99-9c84-d036fa12f7ae",
   "metadata": {
    "tags": []
   },
   "outputs": [],
   "source": [
    "# build the vocab of chars and mappings to/from ints\n",
    "chars = sorted(list(set(''.join(words))))\n",
    "stoi = {s:i+1 for i,s in enumerate(chars)} # chars from 1-26 are alpha\n",
    "stoi['.'] = 0 # special char to delineate begin/end of word\n",
    "itos = {i:s for s,i in stoi.items()}\n",
    "vocab_size = len(itos)\n",
    "#print(itos)"
   ]
  },
  {
   "cell_type": "code",
   "execution_count": 4,
   "id": "94aac71f-e441-43e9-ba79-131f5ae8452c",
   "metadata": {
    "tags": []
   },
   "outputs": [],
   "source": [
    "block_size = 3 # context length, how many chars we take to predict the next one\n",
    "n_embd = 10 # dimensionality of the character embedding vectors\n",
    "n_hidden = 200 # the number of neurons in the hidden layer of the MLP\n",
    "batch_size = 32\n",
    "max_steps = 200000\n",
    "decay_at = 10000"
   ]
  },
  {
   "cell_type": "code",
   "execution_count": 36,
   "id": "76bc11f7-5a8e-482e-9094-5d6b814b7429",
   "metadata": {
    "tags": []
   },
   "outputs": [],
   "source": [
    "# build the dataset (split into 3)\n",
    "\n",
    "def build_dataset(words):\n",
    "    X, Y = [], []\n",
    "    for w in words:\n",
    "        context = [0] * block_size # padded tokens\n",
    "        for ch in w + '.':\n",
    "            ix = stoi[ch]\n",
    "            X.append(context)\n",
    "            Y.append(ix)\n",
    "            context = context[1:] + [ix] # crop and append\n",
    "            \n",
    "    X = torch.tensor(X)\n",
    "    Y = torch.tensor(Y)\n",
    "    #print(X.shape,Y.shape)\n",
    "    return X,Y\n",
    "\n",
    "import random\n",
    "random.seed(42)\n",
    "random.shuffle(words) # randomly shuffle words (so unsorted)\n",
    "n1 = int(0.8*len(words))\n",
    "n2 = int(0.9*len(words))\n",
    "\n",
    "Xtr, Ytr = build_dataset(words[:n1]) # build training dataset (words 80% of dataset)\n",
    "Xdev, Ydev = build_dataset(words[n1:n2]) # build dev dataset (words 80-90, so 10%)\n",
    "Xte, Yte = build_dataset(words[n2:]) # build test dataset (words 90-100, so last 10% of dataset)"
   ]
  },
  {
   "cell_type": "code",
   "execution_count": 6,
   "id": "6052d447-e9b4-42d4-9d57-c2c3c0860d8f",
   "metadata": {
    "tags": []
   },
   "outputs": [],
   "source": [
    "#block_size * LUT_dim"
   ]
  },
  {
   "cell_type": "code",
   "execution_count": 37,
   "id": "6b1ac371-552c-4326-aea1-20ddf0e746c4",
   "metadata": {
    "tags": []
   },
   "outputs": [],
   "source": [
    "# params\n",
    "g = torch.Generator().manual_seed(2147483647) # for reproducibility\n",
    "C = torch.randn((vocab_size,n_embd), generator=g) # puts 27 chars in 10 dims\n",
    "W1 = torch.randn((block_size * n_embd ,n_hidden), generator=g) * (5/3) / ((n_embd*block_size)**0.5) # 0.2\n",
    "b1 = torch.randn(n_hidden,                        generator=g) * 0.01 # will be broadcasted when added to W1\n",
    "W2 = torch.randn((n_hidden,vocab_size),           generator=g) * 0.01 # scaled down initialized weight\n",
    "b2 = torch.randn(vocab_size,                      generator=g) * 0 # b2 is 0 at initialization\n",
    "\n",
    "\n",
    "bngain = torch.ones((1,n_hidden))\n",
    "bnbias = torch.zeros((1,n_hidden))\n",
    "\n",
    "parameters = [C,W1,b1,W2,b2, bngain,bnbias]\n",
    "\n",
    "sum(p.nelement() for p in parameters)\n",
    "\n",
    "for p in parameters:\n",
    "    p.requires_grad = True"
   ]
  },
  {
   "cell_type": "code",
   "execution_count": 10,
   "id": "cabfdc92-e1ff-48e9-9486-ceb4cb886a62",
   "metadata": {
    "tags": []
   },
   "outputs": [
    {
     "data": {
      "text/plain": [
       "torch.Size([32, 200])"
      ]
     },
     "execution_count": 10,
     "metadata": {},
     "output_type": "execute_result"
    }
   ],
   "source": [
    "hpreact.shape"
   ]
  },
  {
   "cell_type": "code",
   "execution_count": 12,
   "id": "cf31a131-34fa-4f21-86af-04f54cd351a3",
   "metadata": {
    "tags": []
   },
   "outputs": [],
   "source": [
    "# calculate mean across 0th dimension\n",
    "# keep dim as true so we can easily broadcast this vector\n",
    "#hpreact.mean(0,keepdim=True).shape"
   ]
  },
  {
   "cell_type": "code",
   "execution_count": 13,
   "id": "9d8dc39f-69e6-4376-8493-c3101fd53816",
   "metadata": {
    "tags": []
   },
   "outputs": [],
   "source": [
    "# calculate std dev of activations\n",
    "#hpreact.std(0,keepdim=True).shape"
   ]
  },
  {
   "cell_type": "code",
   "execution_count": 38,
   "id": "5c4a9a9c-ae3e-4912-ba91-6b8c4fb7a910",
   "metadata": {
    "tags": []
   },
   "outputs": [
    {
     "name": "stdout",
     "output_type": "stream",
     "text": [
      "      0/ 200000:  3.3014\n",
      "  10000/ 200000:  2.4789\n",
      "  20000/ 200000:  2.3390\n",
      "  30000/ 200000:  2.0787\n",
      "  40000/ 200000:  2.1144\n",
      "  50000/ 200000:  2.5058\n",
      "  60000/ 200000:  2.1148\n",
      "  70000/ 200000:  2.0947\n",
      "  80000/ 200000:  2.0753\n",
      "  90000/ 200000:  2.1184\n",
      " 100000/ 200000:  2.3389\n",
      " 110000/ 200000:  2.1089\n",
      " 120000/ 200000:  2.2584\n",
      " 130000/ 200000:  2.4066\n",
      " 140000/ 200000:  2.3050\n",
      " 150000/ 200000:  2.3442\n",
      " 160000/ 200000:  2.1926\n",
      " 170000/ 200000:  2.0753\n",
      " 180000/ 200000:  2.3963\n",
      " 190000/ 200000:  2.0081\n"
     ]
    }
   ],
   "source": [
    "# TRAINING LOOP using minibatches\n",
    "lossi = []\n",
    "\n",
    "for i in range(max_steps):\n",
    "    # minibatch construct\n",
    "    ix = torch.randint(0,Xtr.shape[0], (batch_size,), generator=g)\n",
    "    Xb, Yb = Xtr[ix], Ytr[ix] # batch X, Y\n",
    "    \n",
    "    # forward pass\n",
    "    emb = C[Xb] # UPDATED build LUT embedding matrix, (32, num of chars (3), dims of LUT (10) )\n",
    "    embcat = emb.view(emb.shape[0], -1) # concatenate the vectors\n",
    "    hpreact = embcat @ W1 + b1 # hidden layer pre-activation\n",
    "    # currently hpreact has shape [32,200]\n",
    "\n",
    "    # normalize unit gaussian at init\n",
    "    # hpreact = scalar + (hpreact - mean)/std deviation \n",
    "    hpreact = bngain * (hpreact - hpreact.mean(0,keepdim=True))/hpreact.std(0,keepdim=True) + bnbias\n",
    "    \n",
    "    h = torch.tanh(hpreact) # (batch_size, hidden_layer_size) hidden layer\n",
    "    logits = h @ W2 + b2 # (batch_size,27)\n",
    "    loss = F.cross_entropy(logits,Yb) # replaces counts, prob and loss lines above\n",
    "    \n",
    "    # backward pass\n",
    "    for p in parameters:\n",
    "        p.grad = None # initialize grad vals to 0\n",
    "    loss.backward() # populates gradients\n",
    "\n",
    "    # update parameters\n",
    "    #lr = lrs[i]\n",
    "    lr = 0.1 if i < decay_at else 0.01 # decay after 100,000 steps\n",
    "    for p in parameters:\n",
    "        p.data += -lr * p.grad \n",
    "        \n",
    "    # track stats for learning rates\n",
    "    if i % 10000 == 0: # print every once in a while\n",
    "        print(f'{i:7d}/{max_steps:7d}: {loss.item(): .4f}')\n",
    "    lossi.append(loss.log10().item()) # track log loss \n",
    "                   \n",
    "    #break\n",
    "        \n",
    "#print(loss.item()) # calculates loss on minibatch"
   ]
  },
  {
   "cell_type": "code",
   "execution_count": 29,
   "id": "7c2317d3-c518-417b-850b-f22587ea4339",
   "metadata": {
    "tags": []
   },
   "outputs": [
    {
     "data": {
      "image/png": "[encoded data removed]",
      "text/plain": [
       "<Figure size 2000x1000 with 1 Axes>"
      ]
     },
     "metadata": {},
     "output_type": "display_data"
    }
   ],
   "source": [
    "plt.figure(figsize=(20,10))\n",
    "plt.imshow(h.abs() > 0.99, cmap='gray', interpolation='nearest');"
   ]
  },
  {
   "cell_type": "code",
   "execution_count": 30,
   "id": "d9874f82-9b81-433e-bbde-c5992a78328b",
   "metadata": {
    "tags": []
   },
   "outputs": [
    {
     "data": {
      "image/png": "[encoded data removed]",
      "text/plain": [
       "<Figure size 640x480 with 1 Axes>"
      ]
     },
     "metadata": {},
     "output_type": "display_data"
    }
   ],
   "source": [
    "# view() stretches it out into one long 1D vector\n",
    "# tolist() converts into one long python list of floats\n",
    "# only show 50 bins \n",
    "# and semicolon to supress output we don't want\n",
    "plt.hist(h.view(-1).tolist(),50);"
   ]
  },
  {
   "cell_type": "code",
   "execution_count": 31,
   "id": "88b31cd6-b837-497d-9f38-028b138fe9b5",
   "metadata": {
    "tags": []
   },
   "outputs": [
    {
     "data": {
      "image/png": "[encoded data removed]",
      "text/plain": [
       "<Figure size 640x480 with 1 Axes>"
      ]
     },
     "metadata": {},
     "output_type": "display_data"
    }
   ],
   "source": [
    "plt.hist(hpreact.view(-1).tolist(),50);"
   ]
  },
  {
   "cell_type": "code",
   "execution_count": 12,
   "id": "070696fc-7371-429b-882c-dcbff2068099",
   "metadata": {
    "tags": []
   },
   "outputs": [],
   "source": [
    "# calculate negative log probability of uniform distribution for initialization\n",
    "# should be 1/27.0\n",
    "#-torch.tensor(1/27.0).log()"
   ]
  },
  {
   "cell_type": "code",
   "execution_count": 32,
   "id": "bd6b333d-994b-4240-934f-731b8c41b44b",
   "metadata": {
    "tags": []
   },
   "outputs": [
    {
     "data": {
      "text/plain": [
       "[<matplotlib.lines.Line2D at 0x147488bd0>]"
      ]
     },
     "execution_count": 32,
     "metadata": {},
     "output_type": "execute_result"
    },
    {
     "data": {
      "image/png": "[encoded data removed]",
      "text/plain": [
       "<Figure size 640x480 with 1 Axes>"
      ]
     },
     "metadata": {},
     "output_type": "display_data"
    }
   ],
   "source": [
    "plt.plot(lossi)"
   ]
  },
  {
   "cell_type": "code",
   "execution_count": 40,
   "id": "41d8d7e5-a45b-444a-a21f-18d4b9c76d2e",
   "metadata": {
    "tags": []
   },
   "outputs": [
    {
     "name": "stdout",
     "output_type": "stream",
     "text": [
      "train 2.713322877883911\n",
      "val 2.740936517715454\n"
     ]
    }
   ],
   "source": [
    "@torch.no_grad() # this decorator disables gradient tracking\n",
    "def split_loss(split): # argument is which split you want to evaluate\n",
    "    x,y = {\n",
    "        'train': (Xtr,Ytr),\n",
    "        'val': (Xdev,Ydev), # validation/dev dataset\n",
    "        'test': (Xte,Yte),\n",
    "    }[split]\n",
    "    \n",
    "    # forward pass of network and evaluation of loss for split\n",
    "    emb = C[x] #(N, block_size, n_embd)\n",
    "    embcat = emb.view(emb.shape[0],-1) #concat into (N, block_size * n_embd)\n",
    "    \n",
    "    hpreact = embcat @ W1 + b1 # hidden layer pre-activation\n",
    "    # currently hpreact has shape [32,200]\n",
    "    hpreact = bngain * (hpreact - hpreact.mean(0,keepdim=True))/hpreact.std(0,keepdim=True) + bnbias\n",
    "    \n",
    "    h = torch.tanh(embcat @ W1 + b1) # (N, n_hidden)\n",
    "    logits = h @ W2 + b2 # (N, vocab_size)\n",
    "    loss = F.cross_entropy(logits, y)\n",
    "    print(split,loss.item())\n",
    "    \n",
    "split_loss('train')\n",
    "split_loss('val')"
   ]
  },
  {
   "cell_type": "code",
   "execution_count": 34,
   "id": "c03669b3-7edc-4f78-9467-e29ad66ced74",
   "metadata": {
    "tags": []
   },
   "outputs": [
    {
     "name": "stdout",
     "output_type": "stream",
     "text": [
      "chrmahxambriq.\n",
      "khlimrsx.\n",
      "thty.\n",
      "sklassie.\n",
      "mahnn.\n",
      "fardsarci.\n",
      "gquignllonin.\n",
      "chaigv.\n",
      "brie.\n",
      "gbbhll.\n",
      "frin.\n",
      "quinn.\n",
      "shlingtrvinni.\n",
      "wrathfgijaryxi.\n",
      "fryskpirrdy.\n",
      "shde.\n",
      "xinggtlffryste.\n",
      "shpas.\n",
      "brujhisya.\n",
      "dmbborbzerjcollin.\n"
     ]
    }
   ],
   "source": [
    "# sample from model\n",
    "g = torch.Generator().manual_seed(2147483647 + 10)\n",
    "\n",
    "for _ in range(20):\n",
    "    \n",
    "    out = []\n",
    "    context = [0] * block_size # init iwith all ..\n",
    "    \n",
    "    while True:\n",
    "        # forward pass the neural net\n",
    "        emb = C[torch.tensor([context])] # (1, block_size, n_embd) # dim 1 because we're making one example\n",
    "        h = torch.tanh(emb.view(1,-1) @ W1 + b1)\n",
    "        logits = h @ W2 + b2 # get probabilities from model\n",
    "        probs = F.softmax(logits, dim=1) # exponentiate logits to sum to 1\n",
    "        ix = torch.multinomial(probs,num_samples=1, generator=g).item() # grab random sample (random char from distribution)\n",
    "        context = context[1:] + [ix] # shift context window\n",
    "        out.append(ix) # record context window\n",
    "        \n",
    "        # if we sample the special '.' token, break\n",
    "        if ix == 0:\n",
    "            break\n",
    "            \n",
    "    print(''.join(itos[i] for i in out)) # decode and print the generated word"
   ]
  },
  {
   "cell_type": "markdown",
   "id": "8edeed05-1cf1-497b-b50a-82fd630d6b89",
   "metadata": {},
   "source": [
    "Where I left off: https://youtu.be/P6sfmUTpUmc?t=3014"
   ]
  }
 ],
 "metadata": {
  "kernelspec": {
   "display_name": "Python 3 (ipykernel)",
   "language": "python",
   "name": "python3"
  },
  "language_info": {
   "codemirror_mode": {
    "name": "ipython",
    "version": 3
   },
   "file_extension": ".py",
   "mimetype": "text/x-python",
   "name": "python",
   "nbconvert_exporter": "python",
   "pygments_lexer": "ipython3",
   "version": "3.11.5"
  }
 },
 "nbformat": 4,
 "nbformat_minor": 5
}
