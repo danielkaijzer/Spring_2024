{
 "cells": [
  {
   "cell_type": "code",
   "execution_count": 1,
   "id": "1be613d1-fcc2-4256-a87c-16230de4ac8c",
   "metadata": {
    "tags": []
   },
   "outputs": [],
   "source": [
    "import torch\n",
    "import torch.nn.functional as F\n",
    "import matplotlib.pyplot as plt\n",
    "%matplotlib inline"
   ]
  },
  {
   "cell_type": "code",
   "execution_count": 2,
   "id": "25ad408f-c473-4106-92cc-c6f03f35f3e1",
   "metadata": {
    "tags": []
   },
   "outputs": [],
   "source": [
    "words = open('names.txt', 'r').read().splitlines()"
   ]
  },
  {
   "cell_type": "code",
   "execution_count": 3,
   "id": "4c289afd-aa60-4f99-9c84-d036fa12f7ae",
   "metadata": {
    "tags": []
   },
   "outputs": [],
   "source": [
    "# build the vocab of chars and mappings to/from ints\n",
    "chars = sorted(list(set(''.join(words))))\n",
    "stoi = {s:i+1 for i,s in enumerate(chars)} # chars from 1-26 are alpha\n",
    "stoi['.'] = 0 # special char to delineate begin/end of word\n",
    "itos = {i:s for s,i in stoi.items()}\n",
    "#print(itos)"
   ]
  },
  {
   "cell_type": "code",
   "execution_count": 4,
   "id": "94aac71f-e441-43e9-ba79-131f5ae8452c",
   "metadata": {
    "tags": []
   },
   "outputs": [],
   "source": [
    "block_size = 3 # context length, how many chars we take to predict the next one\n",
    "LUT_dim = 10\n",
    "batch_size = 32\n",
    "training_loops = 200000\n",
    "decay_at = 10000\n",
    "hidden_layer_size = 200"
   ]
  },
  {
   "cell_type": "code",
   "execution_count": 5,
   "id": "76bc11f7-5a8e-482e-9094-5d6b814b7429",
   "metadata": {
    "tags": []
   },
   "outputs": [],
   "source": [
    "# build the dataset (split into 3)\n",
    "\n",
    "def build_dataset(words):\n",
    "    X, Y = [], []\n",
    "    for w in words:\n",
    "        context = [0] * block_size # padded tokens\n",
    "        for ch in w + '.':\n",
    "            ix = stoi[ch]\n",
    "            X.append(context)\n",
    "            Y.append(ix)\n",
    "            context = context[1:] + [ix] # crop and append\n",
    "            \n",
    "    X = torch.tensor(X)\n",
    "    Y = torch.tensor(Y)\n",
    "    #print(X.shape,Y.shape)\n",
    "    return X,Y\n",
    "\n",
    "import random\n",
    "random.seed(42)\n",
    "random.shuffle(words) # randomly shuffle words (so unsorted)\n",
    "n1 = int(0.8*len(words))\n",
    "n2 = int(0.9*len(words))\n",
    "\n",
    "Xtr, Ytr = build_dataset(words[:n1]) # build training dataset (words 80% of dataset)\n",
    "Xdev, Ydev = build_dataset(words[n1:n2]) # build dev dataset (words 80-90, so 10%)\n",
    "Xte, Yte = build_dataset(words[n2:]) # build test dataset (words 90-100, so last 10% of dataset)"
   ]
  },
  {
   "cell_type": "code",
   "execution_count": 6,
   "id": "6052d447-e9b4-42d4-9d57-c2c3c0860d8f",
   "metadata": {
    "tags": []
   },
   "outputs": [],
   "source": [
    "#block_size * LUT_dim"
   ]
  },
  {
   "cell_type": "code",
   "execution_count": 7,
   "id": "6b1ac371-552c-4326-aea1-20ddf0e746c4",
   "metadata": {
    "tags": []
   },
   "outputs": [],
   "source": [
    "# params\n",
    "g = torch.Generator().manual_seed(2147483647) # for reproducibility\n",
    "C = torch.randn((27,LUT_dim), generator=g) # puts 27 chars in 10 dims\n",
    "W1 = torch.randn((block_size * LUT_dim ,hidden_layer_size), generator=g) \n",
    "b1 = torch.randn(hidden_layer_size, generator=g) # will be broadcasted when added to W1\n",
    "W2 = torch.randn((hidden_layer_size,27), generator=g) # 200 outputs from hidden layer, 27 outputs (27 chars possible)\n",
    "b2 = torch.randn(27, generator=g)\n",
    "parameters = [C,W1,b1,W2,b2]"
   ]
  },
  {
   "cell_type": "code",
   "execution_count": 8,
   "id": "75ac376e-ce0d-4194-babd-86a326d80d60",
   "metadata": {
    "tags": []
   },
   "outputs": [
    {
     "data": {
      "text/plain": [
       "11897"
      ]
     },
     "execution_count": 8,
     "metadata": {},
     "output_type": "execute_result"
    }
   ],
   "source": [
    "sum(p.nelement() for p in parameters)"
   ]
  },
  {
   "cell_type": "code",
   "execution_count": 9,
   "id": "74672d93-ca68-4a9b-a8db-0511dd4cd880",
   "metadata": {
    "tags": []
   },
   "outputs": [],
   "source": [
    "for p in parameters:\n",
    "    p.requires_grad = True"
   ]
  },
  {
   "cell_type": "code",
   "execution_count": 10,
   "id": "f48785e0-cb77-4a5e-bc12-3b52dda62715",
   "metadata": {
    "tags": []
   },
   "outputs": [],
   "source": [
    "#lre = torch.linspace(-3,0,1000)\n",
    "#lrs = 10**lre"
   ]
  },
  {
   "cell_type": "code",
   "execution_count": 11,
   "id": "a9e2bd79-bda4-46e6-8c41-14e12d9bfe13",
   "metadata": {
    "tags": []
   },
   "outputs": [],
   "source": [
    "# collect learning rates as a list for diff values\n",
    "#initialize vars to track lr\n",
    "#lri = []\n",
    "lossi = []\n",
    "stepi = []"
   ]
  },
  {
   "cell_type": "code",
   "execution_count": 12,
   "id": "5c4a9a9c-ae3e-4912-ba91-6b8c4fb7a910",
   "metadata": {
    "tags": []
   },
   "outputs": [],
   "source": [
    "# TRAINING LOOP using minibatches\n",
    "\n",
    "for i in range(training_loops):\n",
    "    # minibatch construct\n",
    "    ix = torch.randint(0,Xtr.shape[0], (batch_size,))\n",
    "    \n",
    "    # forward pass\n",
    "    emb = C[Xtr[ix]] # UPDATED build LUT embedding matrix, (32, num of chars (3), dims of LUT (10) )\n",
    "    h = torch.tanh(emb.view(-1,block_size * LUT_dim) @ W1 + b1) # (batch_size, hidden_layer_size) hidden layer\n",
    "    logits = h @ W2 + b2 # (batch_size,27)\n",
    "    loss = F.cross_entropy(logits,Ytr[ix]) # replaces counts, prob and loss lines above\n",
    "    #print(loss.item())\n",
    "    \n",
    "    # backward pass\n",
    "    for p in parameters:\n",
    "        p.grad = None # initialize grad vals to 0\n",
    "    loss.backward() # populates gradients\n",
    "\n",
    "    # update parameters\n",
    "    #lr = lrs[i]\n",
    "    lr = 0.01\n",
    "    #lr = 0.1 if i < decay_at else 0.01 # decay after 100,000 steps\n",
    "    for p in parameters:\n",
    "        p.data += -lr * p.grad \n",
    "        \n",
    "    # track stats for learning rates\n",
    "    #lri.append(lre[i])\n",
    "    stepi.append(i)\n",
    "    lossi.append(loss.log10().item()) # track log loss \n",
    "        \n",
    "#print(loss.item()) # calculates loss on minibatch"
   ]
  },
  {
   "cell_type": "code",
   "execution_count": 13,
   "id": "828293c3-8f5e-442d-8eae-51777d049d51",
   "metadata": {
    "tags": []
   },
   "outputs": [],
   "source": [
    "#plt.plot(stepi,lossi)"
   ]
  },
  {
   "cell_type": "code",
   "execution_count": 14,
   "id": "fbbdfb38-d9d7-4a18-91ea-ce5bfa138f8a",
   "metadata": {
    "tags": []
   },
   "outputs": [
    {
     "data": {
      "text/plain": [
       "tensor(2.2118, grad_fn=<NllLossBackward0>)"
      ]
     },
     "execution_count": 14,
     "metadata": {},
     "output_type": "execute_result"
    }
   ],
   "source": [
    "# calculate loss for training dataset\n",
    "emb = C[Xtr] \n",
    "h = torch.tanh(emb.view(-1,block_size * LUT_dim) @ W1 + b1) # hidden layer\n",
    "logits = h @ W2 + b2\n",
    "loss = F.cross_entropy(logits, Ytr)\n",
    "loss"
   ]
  },
  {
   "cell_type": "code",
   "execution_count": 15,
   "id": "20ee315e-29b0-47f0-bc29-e7136adab9d2",
   "metadata": {
    "tags": []
   },
   "outputs": [
    {
     "data": {
      "text/plain": [
       "tensor(2.2363, grad_fn=<NllLossBackward0>)"
      ]
     },
     "execution_count": 15,
     "metadata": {},
     "output_type": "execute_result"
    }
   ],
   "source": [
    "# calculate loss for dev dataset\n",
    "emb = C[Xdev] # changed to using Xdev for evaluation\n",
    "h = torch.tanh(emb.view(-1,block_size * LUT_dim) @ W1 + b1) # hidden layer\n",
    "logits = h @ W2 + b2\n",
    "loss = F.cross_entropy(logits, Ydev)\n",
    "loss"
   ]
  },
  {
   "cell_type": "code",
   "execution_count": 16,
   "id": "2c2d3440-5328-4ed3-9d3c-81691e90527a",
   "metadata": {
    "tags": []
   },
   "outputs": [
    {
     "data": {
      "text/plain": [
       "tensor(2.2366, grad_fn=<NllLossBackward0>)"
      ]
     },
     "execution_count": 16,
     "metadata": {},
     "output_type": "execute_result"
    }
   ],
   "source": [
    "# calculate loss for test dataset\n",
    "emb = C[Xte] # changed to using Xdev for evaluation\n",
    "h = torch.tanh(emb.view(-1,block_size * LUT_dim) @ W1 + b1) # hidden layer\n",
    "logits = h @ W2 + b2\n",
    "loss = F.cross_entropy(logits, Yte)\n",
    "loss"
   ]
  },
  {
   "cell_type": "code",
   "execution_count": 17,
   "id": "c03669b3-7edc-4f78-9467-e29ad66ced74",
   "metadata": {
    "tags": []
   },
   "outputs": [
    {
     "name": "stdout",
     "output_type": "stream",
     "text": [
      "carpan.\n",
      "amoriqui.\n",
      "kemri.\n",
      "revty.\n",
      "skandan.\n",
      "jazhien.\n",
      "den.\n",
      "rha.\n",
      "kaeli.\n",
      "nellara.\n",
      "chaiivia.\n",
      "leigph.\n",
      "bman.\n",
      "cateennthonor.\n",
      "emi.\n",
      "adbi.\n",
      "watthon.\n",
      "jarynix.\n",
      "kaek.\n",
      "dura.\n"
     ]
    }
   ],
   "source": [
    "# sample from model\n",
    "g = torch.Generator().manual_seed(2147483647 + 10)\n",
    "\n",
    "for _ in range(20):\n",
    "    out = []\n",
    "    context = [0] * block_size # init iwith all ..\n",
    "    while True:\n",
    "        emb = C[torch.tensor([context])] # (1, block_size, d) # dim 1 because we're making one example\n",
    "        h = torch.tanh(emb.view(1,-1) @ W1 + b1)\n",
    "        logits = h @ W2 + b2\n",
    "        probs = F.softmax(logits, dim=1) # exponentiate logits to sum to 1\n",
    "        ix = torch.multinomial(probs,num_samples=1, generator=g).item()\n",
    "        context = context[1:] + [ix] # shift context window\n",
    "        out.append(ix) # record context window\n",
    "        if ix == 0:\n",
    "            break\n",
    "            \n",
    "    print(''.join(itos[i] for i in out))"
   ]
  },
  {
   "cell_type": "markdown",
   "id": "8edeed05-1cf1-497b-b50a-82fd630d6b89",
   "metadata": {},
   "source": [
    "Where I left off:\n",
    "https://youtu.be/P6sfmUTpUmc?t=225\n",
    "\n",
    "review the decorator `@torch.no_grad() # this decorator disables gradient tracking`"
   ]
  },
  {
   "cell_type": "code",
   "execution_count": null,
   "id": "7cf7706b-d253-4226-a4e2-5929a31707c6",
   "metadata": {},
   "outputs": [],
   "source": []
  }
 ],
 "metadata": {
  "kernelspec": {
   "display_name": "Python 3 (ipykernel)",
   "language": "python",
   "name": "python3"
  },
  "language_info": {
   "codemirror_mode": {
    "name": "ipython",
    "version": 3
   },
   "file_extension": ".py",
   "mimetype": "text/x-python",
   "name": "python",
   "nbconvert_exporter": "python",
   "pygments_lexer": "ipython3",
   "version": "3.11.5"
  }
 },
 "nbformat": 4,
 "nbformat_minor": 5
}
