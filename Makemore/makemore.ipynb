{
 "cells": [
  {
   "cell_type": "code",
   "execution_count": 4,
   "id": "e2513b9c",
   "metadata": {},
   "outputs": [],
   "source": [
    "words = open('names.txt','r').read().splitlines() # convert txt file to list of strings"
   ]
  },
  {
   "cell_type": "code",
   "execution_count": 6,
   "id": "a6851659",
   "metadata": {},
   "outputs": [
    {
     "data": {
      "text/plain": [
       "['emma',\n",
       " 'olivia',\n",
       " 'ava',\n",
       " 'isabella',\n",
       " 'sophia',\n",
       " 'charlotte',\n",
       " 'mia',\n",
       " 'amelia',\n",
       " 'harper',\n",
       " 'evelyn']"
      ]
     },
     "execution_count": 6,
     "metadata": {},
     "output_type": "execute_result"
    }
   ],
   "source": [
    "words[:10] # prints first 10 words in our list of strings"
   ]
  },
  {
   "cell_type": "code",
   "execution_count": 15,
   "id": "12ec2e51",
   "metadata": {},
   "outputs": [],
   "source": [
    "longest = max(len(w) for w in words) # longest word"
   ]
  },
  {
   "cell_type": "code",
   "execution_count": 16,
   "id": "2a841367",
   "metadata": {},
   "outputs": [
    {
     "name": "stdout",
     "output_type": "stream",
     "text": [
      "['muhammadibrahim', 'muhammadmustafa']\n"
     ]
    }
   ],
   "source": [
    "print([w for w in words if len(w) == longest])"
   ]
  },
  {
   "cell_type": "markdown",
   "id": "73e0216a",
   "metadata": {},
   "source": [
    "### We will first build a bigram model (predicts next character after first character)\n",
    "• Focus is on two characters at a time"
   ]
  },
  {
   "cell_type": "code",
   "execution_count": 22,
   "id": "07130151",
   "metadata": {},
   "outputs": [
    {
     "name": "stdout",
     "output_type": "stream",
     "text": [
      "<S> e\n",
      "e m\n",
      "m m\n",
      "m a\n",
      "a <E>\n"
     ]
    }
   ],
   "source": [
    "# print bigrams for first word ('emma')\n",
    "\n",
    "for w in words[:1]:\n",
    "    chs = ['<S>'] + list(w) + ['<E>'] # start and end token\n",
    "    for ch1, ch2 in zip(chs, chs[1:]):\n",
    "        print(ch1,ch2)"
   ]
  }
 ],
 "metadata": {
  "kernelspec": {
   "display_name": "Python 3 (ipykernel)",
   "language": "python",
   "name": "python3"
  },
  "language_info": {
   "codemirror_mode": {
    "name": "ipython",
    "version": 3
   },
   "file_extension": ".py",
   "mimetype": "text/x-python",
   "name": "python",
   "nbconvert_exporter": "python",
   "pygments_lexer": "ipython3",
   "version": "3.11.5"
  }
 },
 "nbformat": 4,
 "nbformat_minor": 5
}
