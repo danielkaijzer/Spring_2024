{
 "cells": [
  {
   "cell_type": "code",
   "execution_count": null,
   "id": "51bee709",
   "metadata": {},
   "outputs": [],
   "source": [
    "### "
   ]
  },
  {
   "cell_type": "code",
   "execution_count": 1,
   "id": "dd7a1f0c",
   "metadata": {},
   "outputs": [],
   "source": [
    "import numpy as np\n",
    "import pandas as pd\n",
    "\n",
    "import matplotlib.pyplot as plt\n",
    "import seaborn as sns"
   ]
  },
  {
   "cell_type": "code",
   "execution_count": 2,
   "id": "468574f8",
   "metadata": {},
   "outputs": [],
   "source": [
    "df = pd.read_csv(\"pokemon.csv\")"
   ]
  },
  {
   "cell_type": "code",
   "execution_count": null,
   "id": "aa80b89a",
   "metadata": {},
   "outputs": [],
   "source": [
    "df.head()"
   ]
  },
  {
   "cell_type": "code",
   "execution_count": null,
   "id": "14f694b9",
   "metadata": {},
   "outputs": [],
   "source": [
    "df.info()"
   ]
  },
  {
   "cell_type": "code",
   "execution_count": null,
   "id": "67acf2f5",
   "metadata": {},
   "outputs": [],
   "source": [
    "df.describe()"
   ]
  },
  {
   "cell_type": "code",
   "execution_count": null,
   "id": "b69d8424",
   "metadata": {},
   "outputs": [],
   "source": [
    "# Distribution of Pokemon Types\n",
    "\n",
    "df['Type 1'].value_counts().plot(kind='pie', autopct='%1.1f%%', cmap='tab20c', figsize=(10, 8))"
   ]
  },
  {
   "cell_type": "code",
   "execution_count": null,
   "id": "c740493a",
   "metadata": {},
   "outputs": [],
   "source": [
    "# Distribution of Pokemon Totals\n",
    "df['Total'].plot(kind='hist', figsize=(10, 8))"
   ]
  },
  {
   "cell_type": "code",
   "execution_count": null,
   "id": "78a0fcfa",
   "metadata": {},
   "outputs": [],
   "source": [
    "# \n",
    "df['Total'].plot(kind='box', vert=False, figsize=(10, 5))"
   ]
  },
  {
   "cell_type": "code",
   "execution_count": null,
   "id": "bb0081d9",
   "metadata": {},
   "outputs": [],
   "source": [
    "# Dist of Legendary Pokemon\n",
    "df['Legendary'].value_counts().plot(kind='pie', autopct='%1.1f%%', cmap='Set3', figsize=(10, 8))"
   ]
  },
  {
   "cell_type": "markdown",
   "id": "47053d2a",
   "metadata": {},
   "source": [
    "# Basic Filtering"
   ]
  },
  {
   "cell_type": "markdown",
   "id": "5650fe98",
   "metadata": {},
   "source": [
    "### 1. How many Pokemons exist with an Attack value greater than 150?"
   ]
  },
  {
   "cell_type": "code",
   "execution_count": null,
   "id": "358a710e",
   "metadata": {},
   "outputs": [],
   "source": [
    "sns.boxplot(data=df, x='Attack')"
   ]
  },
  {
   "cell_type": "code",
   "execution_count": null,
   "id": "8e3c5c87",
   "metadata": {},
   "outputs": [],
   "source": [
    "df.loc[df['Attack'] > 150]"
   ]
  },
  {
   "cell_type": "code",
   "execution_count": null,
   "id": "77505d06",
   "metadata": {},
   "outputs": [],
   "source": [
    "# Try your code here\n",
    "df.loc[df['Attack'] > 150].shape"
   ]
  },
  {
   "cell_type": "markdown",
   "id": "40b894a3",
   "metadata": {},
   "source": [
    "### 2. Select all pokemons with a Speed of 10 or less"
   ]
  },
  {
   "cell_type": "code",
   "execution_count": null,
   "id": "fed37dba",
   "metadata": {},
   "outputs": [],
   "source": [
    "df.loc[df['Speed'] <= 10]"
   ]
  },
  {
   "cell_type": "markdown",
   "id": "07acbb71",
   "metadata": {},
   "source": [
    "### 3. How many Pokemons have a Sp. Def value of 25 or less? "
   ]
  },
  {
   "cell_type": "code",
   "execution_count": null,
   "id": "82a6be35",
   "metadata": {},
   "outputs": [],
   "source": [
    "df.loc[df['Sp. Def'] <= 25].shape"
   ]
  },
  {
   "cell_type": "code",
   "execution_count": 10,
   "id": "590b0d19",
   "metadata": {},
   "outputs": [
    {
     "data": {
      "text/plain": [
       "18"
      ]
     },
     "execution_count": 10,
     "metadata": {},
     "output_type": "execute_result"
    }
   ],
   "source": [
    "(df['Sp. Def'] <= 25).sum()"
   ]
  },
  {
   "cell_type": "markdown",
   "id": "0e678e17",
   "metadata": {},
   "source": [
    "### 4. Select all the legendary pokemons"
   ]
  },
  {
   "cell_type": "code",
   "execution_count": null,
   "id": "354e16f1",
   "metadata": {},
   "outputs": [],
   "source": [
    "legendary_df = df.loc[df['Legendary'] == True]\n",
    "legendary_df"
   ]
  },
  {
   "cell_type": "markdown",
   "id": "e0773733",
   "metadata": {},
   "source": [
    "### 5. Find the outlier\n",
    "\n",
    "Take a look at the scatterplot that correlates pokemons Attack and Defense. What's the Name of the pokemon that is a clear outlier (strong Defense, but very low Attack)."
   ]
  },
  {
   "cell_type": "code",
   "execution_count": null,
   "id": "bc648df2",
   "metadata": {},
   "outputs": [],
   "source": [
    "ax = sns.scatterplot(data=df, x=\"Defense\", y=\"Attack\")\n",
    "ax.annotate(\n",
    "    \"Who's this guy?\", xy=(228, 10), xytext=(150, 10), color='red',\n",
    "    arrowprops=dict(arrowstyle=\"->\", color='red')\n",
    ")"
   ]
  },
  {
   "cell_type": "code",
   "execution_count": null,
   "id": "c3f1a597",
   "metadata": {},
   "outputs": [],
   "source": [
    "df.loc[(df['Attack'] < 25) & (df['Defense'] > 200)]"
   ]
  },
  {
   "cell_type": "code",
   "execution_count": 3,
   "id": "6d6f15f5",
   "metadata": {},
   "outputs": [
    {
     "data": {
      "text/html": [
       "<div>\n",
       "<style scoped>\n",
       "    .dataframe tbody tr th:only-of-type {\n",
       "        vertical-align: middle;\n",
       "    }\n",
       "\n",
       "    .dataframe tbody tr th {\n",
       "        vertical-align: top;\n",
       "    }\n",
       "\n",
       "    .dataframe thead th {\n",
       "        text-align: right;\n",
       "    }\n",
       "</style>\n",
       "<table border=\"1\" class=\"dataframe\">\n",
       "  <thead>\n",
       "    <tr style=\"text-align: right;\">\n",
       "      <th></th>\n",
       "      <th>#</th>\n",
       "      <th>Name</th>\n",
       "      <th>Type 1</th>\n",
       "      <th>Type 2</th>\n",
       "      <th>Total</th>\n",
       "      <th>HP</th>\n",
       "      <th>Attack</th>\n",
       "      <th>Defense</th>\n",
       "      <th>Sp. Atk</th>\n",
       "      <th>Sp. Def</th>\n",
       "      <th>Speed</th>\n",
       "      <th>Generation</th>\n",
       "      <th>Legendary</th>\n",
       "    </tr>\n",
       "  </thead>\n",
       "  <tbody>\n",
       "    <tr>\n",
       "      <th>230</th>\n",
       "      <td>213</td>\n",
       "      <td>Shuckle</td>\n",
       "      <td>Bug</td>\n",
       "      <td>Rock</td>\n",
       "      <td>505</td>\n",
       "      <td>20</td>\n",
       "      <td>10</td>\n",
       "      <td>230</td>\n",
       "      <td>10</td>\n",
       "      <td>230</td>\n",
       "      <td>5</td>\n",
       "      <td>2</td>\n",
       "      <td>False</td>\n",
       "    </tr>\n",
       "    <tr>\n",
       "      <th>224</th>\n",
       "      <td>208</td>\n",
       "      <td>SteelixMega Steelix</td>\n",
       "      <td>Steel</td>\n",
       "      <td>Ground</td>\n",
       "      <td>610</td>\n",
       "      <td>75</td>\n",
       "      <td>125</td>\n",
       "      <td>230</td>\n",
       "      <td>55</td>\n",
       "      <td>95</td>\n",
       "      <td>30</td>\n",
       "      <td>2</td>\n",
       "      <td>False</td>\n",
       "    </tr>\n",
       "    <tr>\n",
       "      <th>333</th>\n",
       "      <td>306</td>\n",
       "      <td>AggronMega Aggron</td>\n",
       "      <td>Steel</td>\n",
       "      <td>NaN</td>\n",
       "      <td>630</td>\n",
       "      <td>70</td>\n",
       "      <td>140</td>\n",
       "      <td>230</td>\n",
       "      <td>60</td>\n",
       "      <td>80</td>\n",
       "      <td>50</td>\n",
       "      <td>3</td>\n",
       "      <td>False</td>\n",
       "    </tr>\n",
       "    <tr>\n",
       "      <th>223</th>\n",
       "      <td>208</td>\n",
       "      <td>Steelix</td>\n",
       "      <td>Steel</td>\n",
       "      <td>Ground</td>\n",
       "      <td>510</td>\n",
       "      <td>75</td>\n",
       "      <td>85</td>\n",
       "      <td>200</td>\n",
       "      <td>55</td>\n",
       "      <td>65</td>\n",
       "      <td>30</td>\n",
       "      <td>2</td>\n",
       "      <td>False</td>\n",
       "    </tr>\n",
       "    <tr>\n",
       "      <th>414</th>\n",
       "      <td>377</td>\n",
       "      <td>Regirock</td>\n",
       "      <td>Rock</td>\n",
       "      <td>NaN</td>\n",
       "      <td>580</td>\n",
       "      <td>80</td>\n",
       "      <td>100</td>\n",
       "      <td>200</td>\n",
       "      <td>50</td>\n",
       "      <td>100</td>\n",
       "      <td>50</td>\n",
       "      <td>3</td>\n",
       "      <td>True</td>\n",
       "    </tr>\n",
       "  </tbody>\n",
       "</table>\n",
       "</div>"
      ],
      "text/plain": [
       "       #                 Name Type 1  Type 2  Total  HP  Attack  Defense  \\\n",
       "230  213              Shuckle    Bug    Rock    505  20      10      230   \n",
       "224  208  SteelixMega Steelix  Steel  Ground    610  75     125      230   \n",
       "333  306    AggronMega Aggron  Steel     NaN    630  70     140      230   \n",
       "223  208              Steelix  Steel  Ground    510  75      85      200   \n",
       "414  377             Regirock   Rock     NaN    580  80     100      200   \n",
       "\n",
       "     Sp. Atk  Sp. Def  Speed  Generation  Legendary  \n",
       "230       10      230      5           2      False  \n",
       "224       55       95     30           2      False  \n",
       "333       60       80     50           3      False  \n",
       "223       55       65     30           2      False  \n",
       "414       50      100     50           3       True  "
      ]
     },
     "execution_count": 3,
     "metadata": {},
     "output_type": "execute_result"
    }
   ],
   "source": [
    "# sort elements so that items \n",
    "# with highest defense and lowest attack show up first\n",
    "df.sort_values(by=['Defense','Attack'], ascending=[False, True]).head()"
   ]
  },
  {
   "cell_type": "markdown",
   "id": "58e46485",
   "metadata": {},
   "source": [
    "#### 6. How many Fire-Flying Pokemons are there?"
   ]
  },
  {
   "cell_type": "code",
   "execution_count": 13,
   "id": "d24202fb",
   "metadata": {},
   "outputs": [
    {
     "data": {
      "text/plain": [
       "(6, 13)"
      ]
     },
     "execution_count": 13,
     "metadata": {},
     "output_type": "execute_result"
    }
   ],
   "source": [
    "df.loc[(df['Type 1'] == 'Fire') & (df['Type 2'] == 'Flying')].shape"
   ]
  },
  {
   "cell_type": "code",
   "execution_count": 16,
   "id": "61a01955",
   "metadata": {},
   "outputs": [
    {
     "data": {
      "text/plain": [
       "52"
      ]
     },
     "execution_count": 16,
     "metadata": {},
     "output_type": "execute_result"
    }
   ],
   "source": [
    "(df['Type 1'] == 'Fire').sum()"
   ]
  },
  {
   "cell_type": "code",
   "execution_count": 17,
   "id": "ed9a535a",
   "metadata": {},
   "outputs": [
    {
     "data": {
      "text/plain": [
       "97"
      ]
     },
     "execution_count": 17,
     "metadata": {},
     "output_type": "execute_result"
    }
   ],
   "source": [
    "(df['Type 2'] == 'Flying').sum()"
   ]
  },
  {
   "cell_type": "code",
   "execution_count": 19,
   "id": "99300cbe",
   "metadata": {},
   "outputs": [
    {
     "data": {
      "text/plain": [
       "6"
      ]
     },
     "execution_count": 19,
     "metadata": {},
     "output_type": "execute_result"
    }
   ],
   "source": [
    "((df['Type 1'] == 'Fire') & (df['Type 2'] == 'Flying')).sum()"
   ]
  },
  {
   "cell_type": "markdown",
   "id": "7375e30c",
   "metadata": {},
   "source": [
    "#### How many 'Poison' pokemons are across both types?"
   ]
  },
  {
   "cell_type": "code",
   "execution_count": 4,
   "id": "8a4f8d11",
   "metadata": {},
   "outputs": [
    {
     "data": {
      "text/plain": [
       "62"
      ]
     },
     "execution_count": 4,
     "metadata": {},
     "output_type": "execute_result"
    }
   ],
   "source": [
    "((df['Type 1'] == 'Poison') | (df['Type 2'] == 'Poison')).sum()"
   ]
  },
  {
   "cell_type": "markdown",
   "id": "e7d68c75",
   "metadata": {},
   "source": [
    "#### 8. Name the pokemon of Type 1 Ice which has the strongest defense?"
   ]
  },
  {
   "cell_type": "code",
   "execution_count": 6,
   "id": "b19358aa",
   "metadata": {},
   "outputs": [
    {
     "data": {
      "text/plain": [
       "184"
      ]
     },
     "execution_count": 6,
     "metadata": {},
     "output_type": "execute_result"
    }
   ],
   "source": [
    "highest_ice_def = df.loc[df['Type 1'] == 'Ice','Defense'].max()\n",
    "highest_ice_def"
   ]
  },
  {
   "cell_type": "code",
   "execution_count": 8,
   "id": "d55f4309",
   "metadata": {},
   "outputs": [
    {
     "data": {
      "text/html": [
       "<div>\n",
       "<style scoped>\n",
       "    .dataframe tbody tr th:only-of-type {\n",
       "        vertical-align: middle;\n",
       "    }\n",
       "\n",
       "    .dataframe tbody tr th {\n",
       "        vertical-align: top;\n",
       "    }\n",
       "\n",
       "    .dataframe thead th {\n",
       "        text-align: right;\n",
       "    }\n",
       "</style>\n",
       "<table border=\"1\" class=\"dataframe\">\n",
       "  <thead>\n",
       "    <tr style=\"text-align: right;\">\n",
       "      <th></th>\n",
       "      <th>#</th>\n",
       "      <th>Name</th>\n",
       "      <th>Type 1</th>\n",
       "      <th>Type 2</th>\n",
       "      <th>Total</th>\n",
       "      <th>HP</th>\n",
       "      <th>Attack</th>\n",
       "      <th>Defense</th>\n",
       "      <th>Sp. Atk</th>\n",
       "      <th>Sp. Def</th>\n",
       "      <th>Speed</th>\n",
       "      <th>Generation</th>\n",
       "      <th>Legendary</th>\n",
       "    </tr>\n",
       "  </thead>\n",
       "  <tbody>\n",
       "    <tr>\n",
       "      <th>789</th>\n",
       "      <td>713</td>\n",
       "      <td>Avalugg</td>\n",
       "      <td>Ice</td>\n",
       "      <td>NaN</td>\n",
       "      <td>514</td>\n",
       "      <td>95</td>\n",
       "      <td>117</td>\n",
       "      <td>184</td>\n",
       "      <td>44</td>\n",
       "      <td>46</td>\n",
       "      <td>28</td>\n",
       "      <td>6</td>\n",
       "      <td>False</td>\n",
       "    </tr>\n",
       "  </tbody>\n",
       "</table>\n",
       "</div>"
      ],
      "text/plain": [
       "       #     Name Type 1 Type 2  Total  HP  Attack  Defense  Sp. Atk  Sp. Def  \\\n",
       "789  713  Avalugg    Ice    NaN    514  95     117      184       44       46   \n",
       "\n",
       "     Speed  Generation  Legendary  \n",
       "789     28           6      False  "
      ]
     },
     "execution_count": 8,
     "metadata": {},
     "output_type": "execute_result"
    }
   ],
   "source": [
    "df.loc[(df['Type 1'] == 'Ice') & (df['Defense'] == highest_ice_def)]"
   ]
  }
 ],
 "metadata": {
  "kernelspec": {
   "display_name": "Python 3 (ipykernel)",
   "language": "python",
   "name": "python3"
  },
  "language_info": {
   "codemirror_mode": {
    "name": "ipython",
    "version": 3
   },
   "file_extension": ".py",
   "mimetype": "text/x-python",
   "name": "python",
   "nbconvert_exporter": "python",
   "pygments_lexer": "ipython3",
   "version": "3.11.5"
  }
 },
 "nbformat": 4,
 "nbformat_minor": 5
}
